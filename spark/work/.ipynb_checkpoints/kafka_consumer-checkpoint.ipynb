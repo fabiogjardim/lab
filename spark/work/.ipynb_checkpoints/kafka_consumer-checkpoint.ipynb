{
 "cells": [
  {
   "cell_type": "code",
   "execution_count": 20,
   "id": "23543996-c3e1-4bcf-9435-688d923beeba",
   "metadata": {},
   "outputs": [],
   "source": [
    "from confluent_kafka import Consumer\n",
    "from time import sleep"
   ]
  },
  {
   "cell_type": "code",
   "execution_count": 38,
   "id": "7fb31f55-7a0f-41a6-9724-b95d1ba58407",
   "metadata": {},
   "outputs": [
    {
     "name": "stdout",
     "output_type": "stream",
     "text": [
      "----------------------------\n",
      "offset: 41 \n",
      " topic: teste2 \n",
      " value: b'teste teste'\n",
      "----------------------------\n",
      "offset: 42 \n",
      " topic: teste2 \n",
      " value: b'teste teste'\n",
      "closing consumer\n"
     ]
    },
    {
     "ename": "KeyboardInterrupt",
     "evalue": "",
     "output_type": "error",
     "traceback": [
      "\u001b[0;31m---------------------------------------------------------------------------\u001b[0m",
      "\u001b[0;31mKeyboardInterrupt\u001b[0m                         Traceback (most recent call last)",
      "Cell \u001b[0;32mIn[38], line 47\u001b[0m\n\u001b[1;32m     45\u001b[0m \u001b[38;5;66;03m#RUNNING CONSUMER FOR READING MESSAGE FROM THE KAFKA TOPIC\u001b[39;00m\n\u001b[1;32m     46\u001b[0m my_consumer \u001b[38;5;241m=\u001b[39m ExampleConsumer()\n\u001b[0;32m---> 47\u001b[0m \u001b[43mmy_consumer\u001b[49m\u001b[38;5;241;43m.\u001b[39;49m\u001b[43mstart_listener\u001b[49m\u001b[43m(\u001b[49m\u001b[43m)\u001b[49m\n",
      "Cell \u001b[0;32mIn[38], line 28\u001b[0m, in \u001b[0;36mExampleConsumer.start_listener\u001b[0;34m(self)\u001b[0m\n\u001b[1;32m     25\u001b[0m msg \u001b[38;5;241m=\u001b[39m consumer\u001b[38;5;241m.\u001b[39mpoll(\u001b[38;5;241m0\u001b[39m)\n\u001b[1;32m     27\u001b[0m \u001b[38;5;28;01mif\u001b[39;00m msg \u001b[38;5;129;01mis\u001b[39;00m \u001b[38;5;28;01mNone\u001b[39;00m:\n\u001b[0;32m---> 28\u001b[0m     \u001b[43msleep\u001b[49m\u001b[43m(\u001b[49m\u001b[38;5;241;43m5\u001b[39;49m\u001b[43m)\u001b[49m\n\u001b[1;32m     29\u001b[0m     \u001b[38;5;28;01mcontinue\u001b[39;00m\n\u001b[1;32m     30\u001b[0m \u001b[38;5;28;01mif\u001b[39;00m msg\u001b[38;5;241m.\u001b[39merror():\n",
      "\u001b[0;31mKeyboardInterrupt\u001b[0m: "
     ]
    }
   ],
   "source": [
    "class ExampleConsumer:\n",
    "    broker = \"kafka-broker:9092\"\n",
    "    topic = \"teste2\"\n",
    "    group_id = \"consumer-1\"\n",
    "\n",
    "    def start_listener(self):\n",
    "        consumer_config = {\n",
    "            'bootstrap.servers': self.broker,\n",
    "            'group.id': self.group_id,\n",
    "            'auto.offset.reset': 'largest',\n",
    "            'enable.auto.commit': 'false',\n",
    "            'max.poll.interval.ms': '86400000'\n",
    "        }\n",
    "\n",
    "        consumer = Consumer(consumer_config)\n",
    "        consumer.subscribe([self.topic])\n",
    "\n",
    "        try:\n",
    "            while True:\n",
    "                #print(\"Listening\")\n",
    "                # read single message at a time\n",
    "                msg = consumer.poll(0)\n",
    "                \n",
    "                if msg is None:\n",
    "                    sleep(5)\n",
    "                    continue\n",
    "                if msg.error():\n",
    "                    print(\"Error reading message : {}\".format(msg.error()))\n",
    "                    continue\n",
    "                # You can parse message and save to data base here\n",
    "                print('----------------------------')\n",
    "                print(\"offset: {} \\n topic: {} \\n value: {}\".format(msg.offset(),msg.topic(),msg.value()))\n",
    "                consumer.commit()\n",
    "\n",
    "        except Exception as ex:\n",
    "            print(\"Kafka Exception : {}\", ex)\n",
    "\n",
    "        finally:\n",
    "            print(\"closing consumer\")\n",
    "            consumer.close()\n",
    "\n"
   ]
  },
  {
   "cell_type": "code",
   "execution_count": null,
   "id": "ddeb8b26-6e97-4863-b266-781dc33c1afe",
   "metadata": {},
   "outputs": [],
   "source": [
    "#RUNNING CONSUMER FOR READING MESSAGE FROM THE KAFKA TOPIC\n",
    "my_consumer = ExampleConsumer()\n",
    "my_consumer.start_listener()"
   ]
  }
 ],
 "metadata": {
  "kernelspec": {
   "display_name": "Python 3 (ipykernel)",
   "language": "python",
   "name": "python3"
  },
  "language_info": {
   "codemirror_mode": {
    "name": "ipython",
    "version": 3
   },
   "file_extension": ".py",
   "mimetype": "text/x-python",
   "name": "python",
   "nbconvert_exporter": "python",
   "pygments_lexer": "ipython3",
   "version": "3.10.8"
  }
 },
 "nbformat": 4,
 "nbformat_minor": 5
}
