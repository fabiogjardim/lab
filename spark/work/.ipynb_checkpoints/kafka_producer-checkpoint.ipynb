{
 "cells": [
  {
   "cell_type": "code",
   "execution_count": 13,
   "id": "4c87f31f-b49f-464c-926c-fa6005f699a0",
   "metadata": {},
   "outputs": [],
   "source": [
    "from confluent_kafka import Producer"
   ]
  },
  {
   "cell_type": "code",
   "execution_count": 14,
   "id": "c4e779d4-ff47-485e-b59d-ed7b5364870e",
   "metadata": {},
   "outputs": [],
   "source": [
    "class ExampleProducer:\n",
    "    broker = \"kafka-broker:9092\"\n",
    "    topic = \"teste2\"\n",
    "    producer = None\n",
    "\n",
    "    def __init__(self):\n",
    "        self.producer = Producer({\n",
    "            'bootstrap.servers': self.broker,\n",
    "            'socket.timeout.ms': 100,\n",
    "            'api.version.request': 'false',\n",
    "            'broker.version.fallback': '0.9.0',\n",
    "        }\n",
    "        )\n",
    "\n",
    "    def delivery_report(self, err, msg):\n",
    "        \"\"\" Called once for each message produced to indicate delivery result.\n",
    "            Triggered by poll() or flush(). \"\"\"\n",
    "        if err is not None:\n",
    "            print('Message delivery failed: {}'.format(err))\n",
    "        else:\n",
    "            print('Message delivered to {} [{}]'.format(\n",
    "                msg.topic(), msg.partition()))\n",
    "\n",
    "    def send_msg_async(self, msg):\n",
    "        print(\"Send message asynchronously\")\n",
    "        self.producer.produce(\n",
    "            self.topic,\n",
    "            msg,\n",
    "            callback=lambda err, original_msg=msg: self.delivery_report(err, original_msg\n",
    "                                                                        ),\n",
    "        )\n",
    "        self.producer.flush()\n",
    "\n",
    "    def send_msg_sync(self, msg):\n",
    "        print(\"Send message synchronously\")\n",
    "        self.producer.produce(\n",
    "            self.topic,\n",
    "            msg,\n",
    "            callback=lambda err, original_msg=msg: self.delivery_report(\n",
    "                err, original_msg\n",
    "            ),\n",
    "        )\n",
    "        self.producer.flush()"
   ]
  },
  {
   "cell_type": "code",
   "execution_count": 15,
   "id": "fb5fe223-50da-4161-8b97-3fba70dc5f4b",
   "metadata": {},
   "outputs": [
    {
     "name": "stdout",
     "output_type": "stream",
     "text": [
      "Send message asynchronously\n",
      "Message delivered to teste2 [0]\n"
     ]
    }
   ],
   "source": [
    "#SENDING DATA TO KAFKA TOPIC\n",
    "example_producer = ExampleProducer()\n",
    "message = \"teste teste\"\n",
    "example_producer.send_msg_async(message)"
   ]
  },
  {
   "cell_type": "code",
   "execution_count": null,
   "id": "c901b365-39e1-42f7-be3d-0935e783a4ab",
   "metadata": {},
   "outputs": [],
   "source": []
  }
 ],
 "metadata": {
  "kernelspec": {
   "display_name": "Python 3 (ipykernel)",
   "language": "python",
   "name": "python3"
  },
  "language_info": {
   "codemirror_mode": {
    "name": "ipython",
    "version": 3
   },
   "file_extension": ".py",
   "mimetype": "text/x-python",
   "name": "python",
   "nbconvert_exporter": "python",
   "pygments_lexer": "ipython3",
   "version": "3.10.8"
  }
 },
 "nbformat": 4,
 "nbformat_minor": 5
}
