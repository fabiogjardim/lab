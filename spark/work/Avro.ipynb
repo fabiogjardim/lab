{
 "cells": [
  {
   "cell_type": "code",
   "execution_count": 14,
   "id": "649f0c71-8324-48b0-9ac9-b728ee821d70",
   "metadata": {},
   "outputs": [],
   "source": [
    "import copy\n",
    "import json\n",
    "import avro\n",
    "from avro.datafile import DataFileWriter, DataFileReader\n",
    "from avro.io import DatumWriter, DatumReader\n",
    "import avro.schema"
   ]
  },
  {
   "cell_type": "code",
   "execution_count": 15,
   "id": "c8a193dd-3e01-41c0-9789-4af06b6e92c4",
   "metadata": {},
   "outputs": [
    {
     "data": {
      "text/plain": [
       "{'name': 'avro.example.User',\n",
       " 'type': 'record',\n",
       " 'fields': [{'name': 'name', 'type': 'string'},\n",
       "  {'name': 'age', 'type': 'int'}]}"
      ]
     },
     "execution_count": 15,
     "metadata": {},
     "output_type": "execute_result"
    }
   ],
   "source": [
    "schema = {\n",
    "    'name': 'avro.example.User',\n",
    "    'type': 'record',\n",
    "    'fields': [\n",
    "        {'name': 'name', 'type': 'string'},\n",
    "        {'name': 'age', 'type': 'int'}\n",
    "    ]\n",
    "}\n",
    "schema"
   ]
  },
  {
   "cell_type": "code",
   "execution_count": 18,
   "id": "c790d5f4-8b53-403f-b9ff-23cf22fd8255",
   "metadata": {},
   "outputs": [],
   "source": [
    "schema_parsed = avro.schema.parse(json.dumps(schema))"
   ]
  },
  {
   "cell_type": "code",
   "execution_count": 19,
   "id": "1ede8930-66a8-4389-8fe8-f64e06a165ad",
   "metadata": {},
   "outputs": [],
   "source": [
    "with open('users.avro', 'wb') as f:\n",
    "    writer = DataFileWriter(f, DatumWriter(), schema_parsed)\n",
    "    writer.append({'name': 'Pierre-Simon Laplace', 'age': 77})\n",
    "    writer.append({'name': 'John von Neumann', 'age': 53})\n",
    "    writer.close()"
   ]
  },
  {
   "cell_type": "code",
   "execution_count": 20,
   "id": "8409164f-a986-4edc-a01d-477d46a8157b",
   "metadata": {},
   "outputs": [],
   "source": [
    "with open('users.avro', 'rb') as f:\n",
    "    reader = DataFileReader(f, DatumReader())\n",
    "    metadata = copy.deepcopy(reader.meta)\n",
    "    schema_from_file = json.loads(metadata['avro.schema'])\n",
    "    users = [user for user in reader]\n",
    "    reader.close()"
   ]
  },
  {
   "cell_type": "code",
   "execution_count": 21,
   "id": "68184d6c-c1b8-4b7c-88c1-f884ab59cea7",
   "metadata": {},
   "outputs": [
    {
     "name": "stdout",
     "output_type": "stream",
     "text": [
      "Schema that we specified:\n",
      " {'name': 'avro.example.User', 'type': 'record', 'fields': [{'name': 'name', 'type': 'string'}, {'name': 'age', 'type': 'int'}]}\n",
      "Schema that we parsed:\n",
      " {\"type\": \"record\", \"name\": \"avro.example.User\", \"fields\": [{\"type\": \"string\", \"name\": \"name\"}, {\"type\": \"int\", \"name\": \"age\"}]}\n",
      "Schema from users.avro file:\n",
      " {'type': 'record', 'name': 'avro.example.User', 'fields': [{'type': 'string', 'name': 'name'}, {'type': 'int', 'name': 'age'}]}\n",
      "Users:\n",
      " [{'name': 'Pierre-Simon Laplace', 'age': 77}, {'name': 'John von Neumann', 'age': 53}]\n"
     ]
    }
   ],
   "source": [
    "print(f'Schema that we specified:\\n {schema}')\n",
    "print(f'Schema that we parsed:\\n {schema_parsed}')\n",
    "print(f'Schema from users.avro file:\\n {schema_from_file}')\n",
    "print(f'Users:\\n {users}')"
   ]
  },
  {
   "cell_type": "code",
   "execution_count": null,
   "id": "4db511bf-d27b-4069-9d72-3f9687021689",
   "metadata": {},
   "outputs": [],
   "source": []
  }
 ],
 "metadata": {
  "kernelspec": {
   "display_name": "Python 3 (ipykernel)",
   "language": "python",
   "name": "python3"
  },
  "language_info": {
   "codemirror_mode": {
    "name": "ipython",
    "version": 3
   },
   "file_extension": ".py",
   "mimetype": "text/x-python",
   "name": "python",
   "nbconvert_exporter": "python",
   "pygments_lexer": "ipython3",
   "version": "3.10.8"
  }
 },
 "nbformat": 4,
 "nbformat_minor": 5
}
