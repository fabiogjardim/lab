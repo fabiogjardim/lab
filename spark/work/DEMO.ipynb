{
 "cells": [
  {
   "cell_type": "code",
   "execution_count": 1,
   "id": "efa28bcb-883b-4beb-bcd6-4cca68da3243",
   "metadata": {},
   "outputs": [],
   "source": [
    "import pyspark\n",
    "from delta import *\n",
    "from delta.tables import *\n",
    "from pyspark.sql.functions import *\n",
    "\n",
    "builder = pyspark.sql.SparkSession.builder.appName(\"delta\").master(\"spark://spark-master:7077\") \\\n",
    "    .config(\"spark.sql.extensions\", \"io.delta.sql.DeltaSparkSessionExtension\") \\\n",
    "    .config(\"spark.sql.catalog.spark_catalog\", \"org.apache.spark.sql.delta.catalog.DeltaCatalog\") \\\n",
    "    .config(\"spark.sql.extensions\",\"io.delta.sql.DeltaSparkSessionExtension\") \\\n",
    "    .config(\"spark.sql.catalog.spark_catalog\",\"org.apache.spark.sql.delta.catalog.DeltaCatalog\") \\\n",
    "    .config(\"spark.hadoop.fs.s3a.access.key\",\"datalake\") \\\n",
    "    .config(\"spark.hadoop.fs.s3a.secret.key\",\"datalake\") \\\n",
    "    .config(\"spark.hadoop.fs.s3a.endpoint\",\"http://minio:9000\") \\\n",
    "    .config(\"spark.hadoop.fs.s3a.path.style.access\", \"true\") \\\n",
    "    .config(\"spark.hadoop.fs.s3a.impl\", \"org.apache.hadoop.fs.s3a.S3AFileSystem\")\n",
    "\n",
    "spark = configure_spark_with_delta_pip(builder).enableHiveSupport().getOrCreate()"
   ]
  },
  {
   "cell_type": "code",
   "execution_count": 2,
   "id": "60fbbcf0-5cc3-4790-9e6d-9d67fd644d94",
   "metadata": {},
   "outputs": [
    {
     "data": {
      "text/html": [
       "\n",
       "            <div>\n",
       "                <p><b>SparkSession - hive</b></p>\n",
       "                \n",
       "        <div>\n",
       "            <p><b>SparkContext</b></p>\n",
       "\n",
       "            <p><a href=\"http://spark-master:4041\">Spark UI</a></p>\n",
       "\n",
       "            <dl>\n",
       "              <dt>Version</dt>\n",
       "                <dd><code>v3.3.1</code></dd>\n",
       "              <dt>Master</dt>\n",
       "                <dd><code>spark://spark-master:7077</code></dd>\n",
       "              <dt>AppName</dt>\n",
       "                <dd><code>delta</code></dd>\n",
       "            </dl>\n",
       "        </div>\n",
       "        \n",
       "            </div>\n",
       "        "
      ],
      "text/plain": [
       "<pyspark.sql.session.SparkSession at 0x7f723e529600>"
      ]
     },
     "execution_count": 2,
     "metadata": {},
     "output_type": "execute_result"
    }
   ],
   "source": [
    "spark"
   ]
  },
  {
   "cell_type": "code",
   "execution_count": 18,
   "id": "781c99ae-5e44-4278-85a1-4a6846508b33",
   "metadata": {},
   "outputs": [],
   "source": [
    "df_bronze = spark.read.json(\"s3a://camada-bronze/user\")"
   ]
  },
  {
   "cell_type": "code",
   "execution_count": 19,
   "id": "04b92563-f913-47de-8e99-b11c6faf8424",
   "metadata": {},
   "outputs": [
    {
     "data": {
      "text/plain": [
       "61"
      ]
     },
     "execution_count": 19,
     "metadata": {},
     "output_type": "execute_result"
    }
   ],
   "source": [
    "df_bronze.count()"
   ]
  },
  {
   "cell_type": "code",
   "execution_count": 20,
   "id": "af1b1ef5-ab61-4413-878d-09f1dcd83960",
   "metadata": {},
   "outputs": [],
   "source": [
    "df_bronze.repartition(1).write.parquet('s3a://camada-prata/user',mode='overwrite')"
   ]
  },
  {
   "cell_type": "code",
   "execution_count": 21,
   "id": "6d8b8d82-4201-4949-b16f-5ef6da5f075f",
   "metadata": {},
   "outputs": [],
   "source": [
    "df_prata = spark.read.parquet('s3a://camada-prata/user')"
   ]
  },
  {
   "cell_type": "code",
   "execution_count": 22,
   "id": "a7a495f8-c3dd-4531-b9ce-d6925ad6fbed",
   "metadata": {},
   "outputs": [
    {
     "name": "stdout",
     "output_type": "stream",
     "text": [
      "root\n",
      " |-- address: struct (nullable = true)\n",
      " |    |-- city: string (nullable = true)\n",
      " |    |-- coordinates: struct (nullable = true)\n",
      " |    |    |-- lat: double (nullable = true)\n",
      " |    |    |-- lng: double (nullable = true)\n",
      " |    |-- country: string (nullable = true)\n",
      " |    |-- state: string (nullable = true)\n",
      " |    |-- street_address: string (nullable = true)\n",
      " |    |-- street_name: string (nullable = true)\n",
      " |    |-- zip_code: string (nullable = true)\n",
      " |-- avatar: string (nullable = true)\n",
      " |-- credit_card: struct (nullable = true)\n",
      " |    |-- cc_number: string (nullable = true)\n",
      " |-- date_of_birth: string (nullable = true)\n",
      " |-- email: string (nullable = true)\n",
      " |-- employment: struct (nullable = true)\n",
      " |    |-- key_skill: string (nullable = true)\n",
      " |    |-- title: string (nullable = true)\n",
      " |-- first_name: string (nullable = true)\n",
      " |-- gender: string (nullable = true)\n",
      " |-- id: long (nullable = true)\n",
      " |-- last_name: string (nullable = true)\n",
      " |-- password: string (nullable = true)\n",
      " |-- phone_number: string (nullable = true)\n",
      " |-- social_insurance_number: string (nullable = true)\n",
      " |-- subscription: struct (nullable = true)\n",
      " |    |-- payment_method: string (nullable = true)\n",
      " |    |-- plan: string (nullable = true)\n",
      " |    |-- status: string (nullable = true)\n",
      " |    |-- term: string (nullable = true)\n",
      " |-- uid: string (nullable = true)\n",
      " |-- username: string (nullable = true)\n",
      "\n"
     ]
    }
   ],
   "source": [
    "df_prata.printSchema()"
   ]
  },
  {
   "cell_type": "code",
   "execution_count": 23,
   "id": "42631cdc-6b07-45cb-96bc-771e6c4cd42f",
   "metadata": {},
   "outputs": [
    {
     "data": {
      "text/plain": [
       "61"
      ]
     },
     "execution_count": 23,
     "metadata": {},
     "output_type": "execute_result"
    }
   ],
   "source": [
    "df_prata.count()"
   ]
  },
  {
   "cell_type": "code",
   "execution_count": 25,
   "id": "da018aac-070e-4636-89a7-d3e7c4ac598a",
   "metadata": {},
   "outputs": [],
   "source": [
    "df_prata.select(\n",
    "'id',\n",
    "'uid',\n",
    "'username',\n",
    "'first_name',\n",
    "'last_name',\n",
    "'phone_number',\n",
    "'email',\n",
    "'date_of_birth',\n",
    "'gender',\n",
    "'address.city',\n",
    "'address.country',\n",
    "'address.state',\n",
    "'address.street_address',\n",
    "'address.street_name',\n",
    "'address.zip_code').write.parquet('s3a://camada-ouro/user_simple')\n"
   ]
  },
  {
   "cell_type": "code",
   "execution_count": null,
   "id": "3258bed3-0967-4597-9390-d56dc0852754",
   "metadata": {},
   "outputs": [],
   "source": [
    "df.show()"
   ]
  },
  {
   "cell_type": "code",
   "execution_count": null,
   "id": "1d0f8f33-af99-41d1-8371-6a6991608c82",
   "metadata": {},
   "outputs": [],
   "source": [
    "type(df)"
   ]
  },
  {
   "cell_type": "code",
   "execution_count": null,
   "id": "7b40bbe1-3886-4a2c-8004-dd1b0631383b",
   "metadata": {},
   "outputs": [],
   "source": [
    "## DATA LAKEHOUSE"
   ]
  },
  {
   "cell_type": "code",
   "execution_count": 26,
   "id": "60382de4-bc9f-444b-a833-7f562c79d150",
   "metadata": {},
   "outputs": [],
   "source": [
    "df_bronze.write.format(\"delta\").mode('overwrite').save('s3a://camada-prata/user_lakehouse')"
   ]
  },
  {
   "cell_type": "markdown",
   "id": "8bd6fb65-aef9-4346-9da6-7e8ea9bad90e",
   "metadata": {},
   "source": [
    "## MERGE"
   ]
  },
  {
   "cell_type": "code",
   "execution_count": 27,
   "id": "67f9ca5a-a9ea-451b-a2e8-b31262f79d1a",
   "metadata": {},
   "outputs": [],
   "source": [
    "deltaTable = DeltaTable.forPath(spark,'s3a://camada-prata/user_lakehouse')"
   ]
  },
  {
   "cell_type": "code",
   "execution_count": 28,
   "id": "56bf9b45-efce-4d7b-a5cd-560db73d0d44",
   "metadata": {},
   "outputs": [
    {
     "data": {
      "text/plain": [
       "delta.tables.DeltaTable"
      ]
     },
     "execution_count": 28,
     "metadata": {},
     "output_type": "execute_result"
    }
   ],
   "source": [
    "type(deltaTable)"
   ]
  },
  {
   "cell_type": "code",
   "execution_count": 29,
   "id": "35481176-6954-46c8-a167-0eeb59808e7e",
   "metadata": {},
   "outputs": [],
   "source": [
    "df_novo = spark.read.json(\"s3a://camada-bronze/user\")"
   ]
  },
  {
   "cell_type": "code",
   "execution_count": 30,
   "id": "5020e199-8371-4904-8a28-fe4212378308",
   "metadata": {},
   "outputs": [
    {
     "name": "stdout",
     "output_type": "stream",
     "text": [
      "+--------------------+--------------------+--------------------+-------------+--------------------+--------------------+----------+-----------+----+-------------+----------+--------------------+-----------------------+--------------------+--------------------+-------------------+\n",
      "|             address|              avatar|         credit_card|date_of_birth|               email|          employment|first_name|     gender|  id|    last_name|  password|        phone_number|social_insurance_number|        subscription|                 uid|           username|\n",
      "+--------------------+--------------------+--------------------+-------------+--------------------+--------------------+----------+-----------+----+-------------+----------+--------------------+-----------------------+--------------------+--------------------+-------------------+\n",
      "|{Ocieland, {-59.2...|https://robohash....|{4485-8020-1255-2...|   1966-03-11|sheri.runolfsdott...|{Organisation, Co...|     Sheri| Polygender|4595|Runolfsdottir|dOWCgITXri|+506 422.890.4110...|              925048563|{Apple Pay, Stand...|5c616949-b08d-45d...|sheri.runolfsdottir|\n",
      "|{South Santanapor...|https://robohash....|{6771-8913-5382-1...|   1967-12-26|julieann.buckridg...|{Proactive, Chief...|  Julieann| Polygender|7317|    Buckridge|ZKiQkcOYaM|+855 384-324-0915...|              593081276|{Paypal, Free Tri...|94e5c8a7-ff14-4c3...| julieann.buckridge|\n",
      "|{New Shermanborou...|https://robohash....|{4175-0720-4095-6...|   1964-02-24|vinnie.ebert@emai...|{Communication, E...|    Vinnie| Non-binary|6387|        Ebert|lcTgdXV9AG|+81 1-689-483-074...|              944091354|{Money transfer, ...|99049ac5-3c00-429...|       vinnie.ebert|\n",
      "|{Lakeshiaborough,...|https://robohash....|{4981-1418-3299-8...|   1987-11-29|carlotta.schultz@...|{Organisation, Na...|  Carlotta| Polygender|2019|      Schultz|gCO8pEv1Ku|+238 1-229-371-56...|              430834507|{Google Pay, Star...|dfb8f5b7-fdf5-4b7...|   carlotta.schultz|\n",
      "|{East Vinastad, {...|https://robohash....|{4419-9242-7404-9...|   1984-05-11|heriberto.erdman@...|{Leadership, Dyna...| Heriberto|   Bigender|8781|       Erdman|ADKg7M96iO|+223 (116) 896-40...|              201339439|{Visa checkout, P...|f45ae7fb-a157-4b6...|   heriberto.erdman|\n",
      "|{West Leatricesta...|https://robohash....|{4361-5059-3183-1...|   1995-03-25|stephan.kilback@e...|{Problem solving,...|   Stephan| Non-binary|7147|      Kilback|5Nj1taRDrB|+51 (169) 684-480...|              701380644|{Money transfer, ...|e591efce-83f0-4ff...|    stephan.kilback|\n",
      "|{North Chelsey, {...|https://robohash....|{6771-8930-9442-4...|   1962-10-01|jacquelyne.feeney...|{Communication, H...|Jacquelyne|Genderfluid|4630|       Feeney|Nsc0EDMUrx|+269 1-550-929-91...|              322341934|{WeChat Pay, Esse...|eeeab17a-794c-44c...|  jacquelyne.feeney|\n",
      "|{Lake Elkestad, {...|https://robohash....|     {4645215948934}|   2002-07-22|adah.hermiston@em...|{Problem solving,...|      Adah|Genderfluid|7100|    Hermiston|TjUwA0DNIF|+263 872-510-9440...|              442094785|{Google Pay, Esse...|ef23fe68-afdf-43e...|     adah.hermiston|\n",
      "|{Mrazport, {-67.6...|https://robohash....|     {4246307873450}|   2005-03-26|alfredo.emmerich@...|{Technical savvy,...|   Alfredo|Genderqueer|2462|     Emmerich|meXBZ4W6Sx|+91 636.754.6322 ...|              725496012|{Cheque, Platinum...|58e43073-2b92-4cc...|   alfredo.emmerich|\n",
      "|{Angelenabury, {-...|https://robohash....|{4216-0648-7204-8...|   2002-11-05|alessandra.zieme@...|{Communication, D...|Alessandra|Genderqueer|1798|        Zieme|Nw2IYxmbJA|+299 1-673-261-87...|              303798136|{Credit card, Bus...|f21fb933-736d-460...|   alessandra.zieme|\n",
      "|{East Jillian, {1...|https://robohash....|     {4634013091337}|   1985-05-23|latarsha.mueller@...|{Technical savvy,...|  Latarsha|       Male|5230|      Mueller|j94eCzvxhi| +240 (463) 463-1154|              308013366|{Debit card, Gold...|7ebe34be-af54-4f5...|   latarsha.mueller|\n",
      "|{Juliaberg, {-60....|https://robohash....|     {4685865559821}|   1987-11-11|rosario.quigley@e...|{Technical savvy,...|   Rosario|       Male|3646|      Quigley|7ysdLH6Q49|+1-242 246-233-51...|              327480398|{Visa checkout, P...|baa18278-feb5-4e1...|    rosario.quigley|\n",
      "|{Port Jamaal, {-4...|https://robohash....|{6771-8996-0990-1...|   1958-06-19|antonio.bernhard@...|{Organisation, Ce...|   Antonio|    Agender|4520|     Bernhard|fPHF3xGQV2|+33 1-134-692-618...|              550721070|{Money transfer, ...|b6db9add-b075-423...|   antonio.bernhard|\n",
      "|{Wuckertside, {5....|https://robohash....|{6771-8920-7671-7...|   2001-09-09|francisco.batz@em...|{Teamwork, Commun...| Francisco|   Bigender|6920|         Batz|6B9GS08CXr| +1-345 130-565-8218|              157922949|{WeChat Pay, Prof...|be26dad1-6bc8-4f9...|     francisco.batz|\n",
      "|{Lake Juanfort, {...|https://robohash....|     {4548340696065}|   1966-05-25|numbers.leuschke@...|{Self-motivated, ...|   Numbers|Genderqueer|1355|     Leuschke|J0sZ18WVBi|   +373 996-508-1112|              923338206|{Money transfer, ...|9e0f81f0-986f-453...|   numbers.leuschke|\n",
      "|{Charletteshire, ...|https://robohash....|     {4877123329564}|   1958-07-29|steffanie.johns@e...|{Proactive, Corpo...| Steffanie| Non-binary|6402|        Johns|0PwnN7Fd4G|+852 781.434.0746...|              996775383|{Cash, Premium, I...|a7267cb6-2fec-4a1...|    steffanie.johns|\n",
      "|{West Christopher...|https://robohash....|     {4857461936394}|   1963-08-17|idella.casper@ema...|{Leadership, Huma...|    Idella|Genderqueer|9300|       Casper|pKkVaXjxLd|+244 632-166-2310...|              568758148|{Debit card, Plat...|cd290831-d7d3-4db...|      idella.casper|\n",
      "|{North Lelandview...|https://robohash....|{4697-3869-1829-8...|   1994-02-22|deandre.waelchi@e...|{Confidence, Regi...|   Deandre|Genderqueer|7712|      Waelchi|8KHoqm7nrN|   +995 544.702.7316|              340779255|{Debit card, Gold...|bcb7673f-98c0-402...|    deandre.waelchi|\n",
      "|{Waltershire, {82...|https://robohash....|{4230-9749-1825-3...|   1965-05-27|hung.waelchi@emai...|{Networking skill...|      Hung|    Agender|3158|      Waelchi|CRsSdLcf8b|+36 (805) 132-459...|              173713066|{Apple Pay, Silve...|5c641172-c633-41b...|       hung.waelchi|\n",
      "|{North Olin, {89....|https://robohash....|{4665-0197-1734-7...|   1976-03-15|renate.rogahn@ema...|{Confidence, Dyna...|    Renate|     Female|2970|       Rogahn|DTnvtOLUXx|+672 (379) 540-28...|              602434763|{Visa checkout, D...|c0c21f2f-eda3-430...|      renate.rogahn|\n",
      "+--------------------+--------------------+--------------------+-------------+--------------------+--------------------+----------+-----------+----+-------------+----------+--------------------+-----------------------+--------------------+--------------------+-------------------+\n",
      "only showing top 20 rows\n",
      "\n"
     ]
    }
   ],
   "source": [
    "df_novo.show()"
   ]
  },
  {
   "cell_type": "code",
   "execution_count": null,
   "id": "bb19a988-b32a-4773-9637-c675ce192696",
   "metadata": {},
   "outputs": [],
   "source": [
    "df_novo = df_novo.drop_duplicates(['city_id'])"
   ]
  },
  {
   "cell_type": "code",
   "execution_count": null,
   "id": "75c88199-fc3a-4346-9a4f-17d4755ffa87",
   "metadata": {},
   "outputs": [],
   "source": [
    "df_novo.show()"
   ]
  },
  {
   "cell_type": "code",
   "execution_count": null,
   "id": "6cb4a9ec-dd5d-4d75-bf85-35f2cb31dc21",
   "metadata": {},
   "outputs": [],
   "source": [
    "deltaTable.alias('old') \\\n",
    "  .merge(\n",
    "    df_novo.alias('new'),\n",
    "    'old.id = new.id'\n",
    "  ) \\\n",
    "  .whenMatchedUpdate(set =\n",
    "    {\n",
    "        \"first_name\": \"new.first_name\"\n",
    "    }\n",
    "  ) \\\n",
    "  .whenNotMatchedInsert(values =\n",
    "    {\n",
    "        \"city_id\": \"new.city_id\",\n",
    "        \"city\": \"new.city\",\n",
    "        \"country_id\": \"new.country_id\",\n",
    "        \"last_update\": \"new.last_update\",\n",
    "    }\n",
    "  ) \\\n",
    "  .execute()"
   ]
  },
  {
   "cell_type": "code",
   "execution_count": 31,
   "id": "438c13e0-bcff-4177-9d0c-fc0fcc1cd3ce",
   "metadata": {},
   "outputs": [],
   "source": [
    "deltaTable2 = DeltaTable.forPath(spark,'s3a://camada-prata/user_lakehouse')"
   ]
  },
  {
   "cell_type": "code",
   "execution_count": 32,
   "id": "983f2311-fefc-4082-aa1a-21d6e02d04c1",
   "metadata": {},
   "outputs": [
    {
     "name": "stdout",
     "output_type": "stream",
     "text": [
      "+--------------------+--------------------+--------------------+-------------+--------------------+--------------------+----------+-----------+----+-------------+----------+--------------------+-----------------------+--------------------+--------------------+--------------------+\n",
      "|             address|              avatar|         credit_card|date_of_birth|               email|          employment|first_name|     gender|  id|    last_name|  password|        phone_number|social_insurance_number|        subscription|                 uid|            username|\n",
      "+--------------------+--------------------+--------------------+-------------+--------------------+--------------------+----------+-----------+----+-------------+----------+--------------------+-----------------------+--------------------+--------------------+--------------------+\n",
      "|{Ocieland, {-59.2...|https://robohash....|{4485-8020-1255-2...|   1966-03-11|sheri.runolfsdott...|{Organisation, Co...|     Sheri| Polygender|4595|Runolfsdottir|dOWCgITXri|+506 422.890.4110...|              925048563|{Apple Pay, Stand...|5c616949-b08d-45d...| sheri.runolfsdottir|\n",
      "|{South Santanapor...|https://robohash....|{6771-8913-5382-1...|   1967-12-26|julieann.buckridg...|{Proactive, Chief...|  Julieann| Polygender|7317|    Buckridge|ZKiQkcOYaM|+855 384-324-0915...|              593081276|{Paypal, Free Tri...|94e5c8a7-ff14-4c3...|  julieann.buckridge|\n",
      "|{East Vinastad, {...|https://robohash....|{4419-9242-7404-9...|   1984-05-11|heriberto.erdman@...|{Leadership, Dyna...| Heriberto|   Bigender|8781|       Erdman|ADKg7M96iO|+223 (116) 896-40...|              201339439|{Visa checkout, P...|f45ae7fb-a157-4b6...|    heriberto.erdman|\n",
      "|{Mrazport, {-67.6...|https://robohash....|     {4246307873450}|   2005-03-26|alfredo.emmerich@...|{Technical savvy,...|   Alfredo|Genderqueer|2462|     Emmerich|meXBZ4W6Sx|+91 636.754.6322 ...|              725496012|{Cheque, Platinum...|58e43073-2b92-4cc...|    alfredo.emmerich|\n",
      "|{Angelenabury, {-...|https://robohash....|{4216-0648-7204-8...|   2002-11-05|alessandra.zieme@...|{Communication, D...|Alessandra|Genderqueer|1798|        Zieme|Nw2IYxmbJA|+299 1-673-261-87...|              303798136|{Credit card, Bus...|f21fb933-736d-460...|    alessandra.zieme|\n",
      "|{East Jillian, {1...|https://robohash....|     {4634013091337}|   1985-05-23|latarsha.mueller@...|{Technical savvy,...|  Latarsha|       Male|5230|      Mueller|j94eCzvxhi| +240 (463) 463-1154|              308013366|{Debit card, Gold...|7ebe34be-af54-4f5...|    latarsha.mueller|\n",
      "|{Port Jamaal, {-4...|https://robohash....|{6771-8996-0990-1...|   1958-06-19|antonio.bernhard@...|{Organisation, Ce...|   Antonio|    Agender|4520|     Bernhard|fPHF3xGQV2|+33 1-134-692-618...|              550721070|{Money transfer, ...|b6db9add-b075-423...|    antonio.bernhard|\n",
      "|{Lake Juanfort, {...|https://robohash....|     {4548340696065}|   1966-05-25|numbers.leuschke@...|{Self-motivated, ...|   Numbers|Genderqueer|1355|     Leuschke|J0sZ18WVBi|   +373 996-508-1112|              923338206|{Money transfer, ...|9e0f81f0-986f-453...|    numbers.leuschke|\n",
      "|{Charletteshire, ...|https://robohash....|     {4877123329564}|   1958-07-29|steffanie.johns@e...|{Proactive, Corpo...| Steffanie| Non-binary|6402|        Johns|0PwnN7Fd4G|+852 781.434.0746...|              996775383|{Cash, Premium, I...|a7267cb6-2fec-4a1...|     steffanie.johns|\n",
      "|{West Christopher...|https://robohash....|     {4857461936394}|   1963-08-17|idella.casper@ema...|{Leadership, Huma...|    Idella|Genderqueer|9300|       Casper|pKkVaXjxLd|+244 632-166-2310...|              568758148|{Debit card, Plat...|cd290831-d7d3-4db...|       idella.casper|\n",
      "|{North Lelandview...|https://robohash....|{4697-3869-1829-8...|   1994-02-22|deandre.waelchi@e...|{Confidence, Regi...|   Deandre|Genderqueer|7712|      Waelchi|8KHoqm7nrN|   +995 544.702.7316|              340779255|{Debit card, Gold...|bcb7673f-98c0-402...|     deandre.waelchi|\n",
      "|{North Olin, {89....|https://robohash....|{4665-0197-1734-7...|   1976-03-15|renate.rogahn@ema...|{Confidence, Dyna...|    Renate|     Female|2970|       Rogahn|DTnvtOLUXx|+672 (379) 540-28...|              602434763|{Visa checkout, D...|c0c21f2f-eda3-430...|       renate.rogahn|\n",
      "|{East Stacia, {-2...|https://robohash....|{5131-3639-2320-8...|   1968-07-08|antonia.altenwert...|{Teamwork, Future...|   Antonia|   Bigender|2396|   Altenwerth|hfZtYDo04V|+674 1-292-977-34...|              223809120|{Visa checkout, S...|a9d50626-68b2-477...|  antonia.altenwerth|\n",
      "|{North Tonishasta...|https://robohash....|{6771-8988-7354-3...|   1979-10-04|salome.kihn@email...|{Technical savvy,...|    Salome|Genderfluid|6820|         Kihn|6alChJ05Uy|+886 367.792.7497...|              613202001|{Money transfer, ...|7eb9cab4-0ce9-497...|         salome.kihn|\n",
      "|{South Domenichav...|https://robohash....|{4876-3551-5486-3...|   1979-04-11|florinda.goodwin@...|{Communication, C...|  Florinda|Genderfluid|5781|      Goodwin|I6ewV598a4|+423 216.513.9755...|              467333670|{Google Pay, Gold...|cca1dc8a-d517-44a...|    florinda.goodwin|\n",
      "|{Saranshire, {-23...|https://robohash....|{4503-2530-6429-3...|   2001-08-20|arica.fadel@email...|{Problem solving,...|     Arica|Genderqueer|8167|        Fadel|5SWKvpGE8U|+229 502-345-0931...|              966199044|{Paypal, Premium,...|afc601a0-d6b8-4e6...|         arica.fadel|\n",
      "|{New Shirleyberg,...|https://robohash....|{4219-3625-3268-6...|   1977-05-05|tory.goldner@emai...|{Confidence, Inve...|      Tory| Non-binary|4082|      Goldner|nQTeoYVScv|   +964 648-878-1843|              997975297|{Cash, Silver, Bl...|8c48c076-7ead-415...|        tory.goldner|\n",
      "|{Zacharystad, {1....|https://robohash....|     {4144299279028}|   1995-05-12|letisha.volkman@e...|{Work under press...|   Letisha|     Female|6321|      Volkman|KoB97HweU5|+61-8 1-636-744-0979|              517626180|{Cheque, Business...|38e37615-2d01-4f4...|     letisha.volkman|\n",
      "|{Jasperstad, {61....|https://robohash....|{6771-8926-2616-0...|   1985-01-22|weston.hagenes@em...|{Confidence, Manu...|    Weston|       Male|8826|      Hagenes|oYrSM3JGB1|+245 734-751-6617...|              143490308|{Bitcoins, Basic,...|28cc316c-ebb5-459...|      weston.hagenes|\n",
      "|{Aubreyport, {-45...|https://robohash....|{6771-8985-8235-3...|   1977-04-14|stacia.runolfsdot...|{Teamwork, Nation...|    Stacia|Genderqueer|9681|Runolfsdottir|u71lSioTzF|+94 680.377.3870 ...|              273407866|{Bitcoins, Platin...|47005595-9884-4da...|stacia.runolfsdottir|\n",
      "+--------------------+--------------------+--------------------+-------------+--------------------+--------------------+----------+-----------+----+-------------+----------+--------------------+-----------------------+--------------------+--------------------+--------------------+\n",
      "only showing top 20 rows\n",
      "\n"
     ]
    }
   ],
   "source": [
    "deltaTable2.toDF().show()"
   ]
  },
  {
   "cell_type": "code",
   "execution_count": null,
   "id": "4bffd829-f62f-4c2f-85e3-c077d13d4a35",
   "metadata": {},
   "outputs": [],
   "source": []
  }
 ],
 "metadata": {
  "kernelspec": {
   "display_name": "Python 3 (ipykernel)",
   "language": "python",
   "name": "python3"
  },
  "language_info": {
   "codemirror_mode": {
    "name": "ipython",
    "version": 3
   },
   "file_extension": ".py",
   "mimetype": "text/x-python",
   "name": "python",
   "nbconvert_exporter": "python",
   "pygments_lexer": "ipython3",
   "version": "3.10.8"
  }
 },
 "nbformat": 4,
 "nbformat_minor": 5
}
