{
 "cells": [
  {
   "cell_type": "code",
   "execution_count": 7,
   "id": "122212bc-b167-4f87-a68b-9aee90b1ae07",
   "metadata": {
    "tags": []
   },
   "outputs": [],
   "source": [
    "import pyspark\n",
    "from delta import *\n",
    "\n",
    "builder = pyspark.sql.SparkSession.builder.appName(\"delta\").master(\"spark://spark-master:7077\") \\\n",
    "    .config(\"spark.sql.extensions\", \"io.delta.sql.DeltaSparkSessionExtension\") \\\n",
    "    .config(\"spark.sql.catalog.spark_catalog\", \"org.apache.spark.sql.delta.catalog.DeltaCatalog\") \\\n",
    "    .config(\"spark.sql.extensions\",\"io.delta.sql.DeltaSparkSessionExtension\") \\\n",
    "    .config(\"spark.sql.catalog.spark_catalog\",\"org.apache.spark.sql.delta.catalog.DeltaCatalog\") \\\n",
    "    .config(\"spark.hadoop.fs.s3a.access.key\",\"datalake\") \\\n",
    "    .config(\"spark.hadoop.fs.s3a.secret.key\",\"datalake\") \\\n",
    "    .config(\"spark.hadoop.fs.s3a.endpoint\",\"http://minio:9000\") \\\n",
    "    .config(\"spark.hadoop.fs.s3a.path.style.access\", \"true\") \\\n",
    "    .config(\"spark.hadoop.fs.s3a.impl\", \"org.apache.hadoop.fs.s3a.S3AFileSystem\")\n",
    "\n",
    "spark = configure_spark_with_delta_pip(builder).enableHiveSupport().getOrCreate()"
   ]
  },
  {
   "cell_type": "code",
   "execution_count": 2,
   "id": "11b64103-5021-4451-82d0-7008a1c600ab",
   "metadata": {
    "tags": []
   },
   "outputs": [
    {
     "data": {
      "text/html": [
       "\n",
       "            <div>\n",
       "                <p><b>SparkSession - hive</b></p>\n",
       "                \n",
       "        <div>\n",
       "            <p><b>SparkContext</b></p>\n",
       "\n",
       "            <p><a href=\"http://spark-master:4040\">Spark UI</a></p>\n",
       "\n",
       "            <dl>\n",
       "              <dt>Version</dt>\n",
       "                <dd><code>v3.3.1</code></dd>\n",
       "              <dt>Master</dt>\n",
       "                <dd><code>spark://spark-master:7077</code></dd>\n",
       "              <dt>AppName</dt>\n",
       "                <dd><code>delta</code></dd>\n",
       "            </dl>\n",
       "        </div>\n",
       "        \n",
       "            </div>\n",
       "        "
      ],
      "text/plain": [
       "<pyspark.sql.session.SparkSession at 0x7f9ebb22d780>"
      ]
     },
     "execution_count": 2,
     "metadata": {},
     "output_type": "execute_result"
    }
   ],
   "source": [
    "spark"
   ]
  },
  {
   "cell_type": "code",
   "execution_count": 3,
   "id": "6c583e32-d07d-4866-8b03-c7157ba0338f",
   "metadata": {},
   "outputs": [
    {
     "name": "stdout",
     "output_type": "stream",
     "text": [
      "+---------+---------+-----------+\n",
      "|namespace|tableName|isTemporary|\n",
      "+---------+---------+-----------+\n",
      "|  default|    teste|      false|\n",
      "|  default|   teste2|      false|\n",
      "|  default|     city|      false|\n",
      "+---------+---------+-----------+\n",
      "\n"
     ]
    }
   ],
   "source": [
    "spark.sql('show tables from default').show()"
   ]
  },
  {
   "cell_type": "code",
   "execution_count": 4,
   "id": "d3b0c6b6-3107-4c71-8aaf-5f3f8ba79fbf",
   "metadata": {
    "tags": []
   },
   "outputs": [],
   "source": [
    "df = spark.read.csv(\"s3a://delta-lake/results.csv\",header=True)"
   ]
  },
  {
   "cell_type": "code",
   "execution_count": 5,
   "id": "6dfdd270-c082-4399-bcd9-80a254226932",
   "metadata": {},
   "outputs": [
    {
     "name": "stdout",
     "output_type": "stream",
     "text": [
      "+----------+----------------+-------------+--------------+--------------+--------------+---------+-------------------+-----------+\n",
      "|      date|   home_teamName|away_teamName|home_scoreHome|away_scoreAway|tournamentName| cityCity|     countryCountry|neutralTRUE|\n",
      "+----------+----------------+-------------+--------------+--------------+--------------+---------+-------------------+-----------+\n",
      "|1872-11-30|        Scotland|      England|             0|             0|      Friendly|  Glasgow|           Scotland|      FALSE|\n",
      "|1873-03-08|         England|     Scotland|             4|             2|      Friendly|   London|            England|      FALSE|\n",
      "|1874-03-07|        Scotland|      England|             2|             1|      Friendly|  Glasgow|           Scotland|      FALSE|\n",
      "|1875-03-06|         England|     Scotland|             2|             2|      Friendly|   London|            England|      FALSE|\n",
      "|1876-03-04|        Scotland|      England|             3|             0|      Friendly|  Glasgow|           Scotland|      FALSE|\n",
      "|1876-03-25|        Scotland|        Wales|             4|             0|      Friendly|  Glasgow|           Scotland|      FALSE|\n",
      "|1877-03-03|         England|     Scotland|             1|             3|      Friendly|   London|            England|      FALSE|\n",
      "|1877-03-05|           Wales|     Scotland|             0|             2|      Friendly|  Wrexham|              Wales|      FALSE|\n",
      "|1878-03-02|        Scotland|      England|             7|             2|      Friendly|  Glasgow|           Scotland|      FALSE|\n",
      "|1878-03-23|        Scotland|        Wales|             9|             0|      Friendly|  Glasgow|           Scotland|      FALSE|\n",
      "|1879-01-18|         England|        Wales|             2|             1|      Friendly|   London|            England|      FALSE|\n",
      "|1879-04-05|         England|     Scotland|             5|             4|      Friendly|   London|            England|      FALSE|\n",
      "|1879-04-07|           Wales|     Scotland|             0|             3|      Friendly|  Wrexham|              Wales|      FALSE|\n",
      "|1880-03-13|        Scotland|      England|             5|             4|      Friendly|  Glasgow|           Scotland|      FALSE|\n",
      "|1880-03-15|           Wales|      England|             2|             3|      Friendly|  Wrexham|              Wales|      FALSE|\n",
      "|1880-03-27|        Scotland|        Wales|             5|             1|      Friendly|  Glasgow|           Scotland|      FALSE|\n",
      "|1881-02-26|         England|        Wales|             0|             1|      Friendly|Blackburn|            England|      FALSE|\n",
      "|1881-03-12|         England|     Scotland|             1|             6|      Friendly|   London|            England|      FALSE|\n",
      "|1881-03-14|           Wales|     Scotland|             1|             5|      Friendly|  Wrexham|              Wales|      FALSE|\n",
      "|1882-02-18|Northern Ireland|      England|             0|            13|      Friendly|  Belfast|Republic of Ireland|      FALSE|\n",
      "+----------+----------------+-------------+--------------+--------------+--------------+---------+-------------------+-----------+\n",
      "only showing top 20 rows\n",
      "\n"
     ]
    }
   ],
   "source": [
    "df.show()"
   ]
  },
  {
   "cell_type": "code",
   "execution_count": 6,
   "id": "b76aaf7e-c380-4d86-87ad-1acf3812da02",
   "metadata": {},
   "outputs": [],
   "source": [
    "df.write.csv('hdfs:/datalake/teste',mode='overwrite')"
   ]
  },
  {
   "cell_type": "code",
   "execution_count": 5,
   "id": "60684b56-5206-44c1-9adb-a99aab255a21",
   "metadata": {},
   "outputs": [],
   "source": [
    "df = df.withColumnRenamed('date','dt')"
   ]
  },
  {
   "cell_type": "code",
   "execution_count": 6,
   "id": "4281329f-70ff-4051-a2dc-1ef47f1165c7",
   "metadata": {},
   "outputs": [
    {
     "name": "stdout",
     "output_type": "stream",
     "text": [
      "+----------+----------------+-------------+--------------+--------------+--------------+---------+-------------------+-----------+\n",
      "|        dt|   home_teamName|away_teamName|home_scoreHome|away_scoreAway|tournamentName| cityCity|     countryCountry|neutralTRUE|\n",
      "+----------+----------------+-------------+--------------+--------------+--------------+---------+-------------------+-----------+\n",
      "|1872-11-30|        Scotland|      England|             0|             0|      Friendly|  Glasgow|           Scotland|      FALSE|\n",
      "|1873-03-08|         England|     Scotland|             4|             2|      Friendly|   London|            England|      FALSE|\n",
      "|1874-03-07|        Scotland|      England|             2|             1|      Friendly|  Glasgow|           Scotland|      FALSE|\n",
      "|1875-03-06|         England|     Scotland|             2|             2|      Friendly|   London|            England|      FALSE|\n",
      "|1876-03-04|        Scotland|      England|             3|             0|      Friendly|  Glasgow|           Scotland|      FALSE|\n",
      "|1876-03-25|        Scotland|        Wales|             4|             0|      Friendly|  Glasgow|           Scotland|      FALSE|\n",
      "|1877-03-03|         England|     Scotland|             1|             3|      Friendly|   London|            England|      FALSE|\n",
      "|1877-03-05|           Wales|     Scotland|             0|             2|      Friendly|  Wrexham|              Wales|      FALSE|\n",
      "|1878-03-02|        Scotland|      England|             7|             2|      Friendly|  Glasgow|           Scotland|      FALSE|\n",
      "|1878-03-23|        Scotland|        Wales|             9|             0|      Friendly|  Glasgow|           Scotland|      FALSE|\n",
      "|1879-01-18|         England|        Wales|             2|             1|      Friendly|   London|            England|      FALSE|\n",
      "|1879-04-05|         England|     Scotland|             5|             4|      Friendly|   London|            England|      FALSE|\n",
      "|1879-04-07|           Wales|     Scotland|             0|             3|      Friendly|  Wrexham|              Wales|      FALSE|\n",
      "|1880-03-13|        Scotland|      England|             5|             4|      Friendly|  Glasgow|           Scotland|      FALSE|\n",
      "|1880-03-15|           Wales|      England|             2|             3|      Friendly|  Wrexham|              Wales|      FALSE|\n",
      "|1880-03-27|        Scotland|        Wales|             5|             1|      Friendly|  Glasgow|           Scotland|      FALSE|\n",
      "|1881-02-26|         England|        Wales|             0|             1|      Friendly|Blackburn|            England|      FALSE|\n",
      "|1881-03-12|         England|     Scotland|             1|             6|      Friendly|   London|            England|      FALSE|\n",
      "|1881-03-14|           Wales|     Scotland|             1|             5|      Friendly|  Wrexham|              Wales|      FALSE|\n",
      "|1882-02-18|Northern Ireland|      England|             0|            13|      Friendly|  Belfast|Republic of Ireland|      FALSE|\n",
      "+----------+----------------+-------------+--------------+--------------+--------------+---------+-------------------+-----------+\n",
      "only showing top 20 rows\n",
      "\n"
     ]
    }
   ],
   "source": [
    "df.show()"
   ]
  },
  {
   "cell_type": "code",
   "execution_count": 8,
   "id": "82730e21-d7cc-4f27-b612-119e65b2f7aa",
   "metadata": {},
   "outputs": [],
   "source": [
    "df_jogosNoBrasil = df.filter(df.countryCountry == 'Brazil')"
   ]
  },
  {
   "cell_type": "code",
   "execution_count": 9,
   "id": "f5fa3bdc-753e-42c8-967a-23a6b9b6ca3a",
   "metadata": {},
   "outputs": [
    {
     "data": {
      "text/plain": [
       "529"
      ]
     },
     "execution_count": 9,
     "metadata": {},
     "output_type": "execute_result"
    }
   ],
   "source": [
    "df_jogosNoBrasil.count()"
   ]
  },
  {
   "cell_type": "code",
   "execution_count": 10,
   "id": "4130c50e-49c6-481e-b4d7-8337a88fd368",
   "metadata": {},
   "outputs": [
    {
     "data": {
      "text/plain": [
       "40839"
      ]
     },
     "execution_count": 10,
     "metadata": {},
     "output_type": "execute_result"
    }
   ],
   "source": [
    "df.count()"
   ]
  },
  {
   "cell_type": "code",
   "execution_count": 4,
   "id": "32945423-c3ae-4b8a-9f25-8ff6d9fbe0e0",
   "metadata": {},
   "outputs": [
    {
     "name": "stdout",
     "output_type": "stream",
     "text": [
      "s3a://delta-lake/demo/d0b8b558-13b5-4ca4-b09c-7b441e483369\n"
     ]
    }
   ],
   "source": [
    "import uuid\n",
    "myuuid = uuid.uuid4()\n",
    "path = (\"s3a://delta-lake/demo/{}\").format(myuuid)\n",
    "print(path)"
   ]
  },
  {
   "cell_type": "code",
   "execution_count": 5,
   "id": "67224685-333c-47a8-ae67-256017a40794",
   "metadata": {
    "tags": []
   },
   "outputs": [
    {
     "name": "stderr",
     "output_type": "stream",
     "text": [
      "ERROR:root:Exception while sending command.\n",
      "Traceback (most recent call last):\n",
      "  File \"/usr/local/spark/python/lib/py4j-0.10.9.5-src.zip/py4j/clientserver.py\", line 516, in send_command\n",
      "    raise Py4JNetworkError(\"Answer from Java side is empty\")\n",
      "py4j.protocol.Py4JNetworkError: Answer from Java side is empty\n",
      "\n",
      "During handling of the above exception, another exception occurred:\n",
      "\n",
      "Traceback (most recent call last):\n",
      "  File \"/usr/local/spark/python/lib/py4j-0.10.9.5-src.zip/py4j/java_gateway.py\", line 1038, in send_command\n",
      "    response = connection.send_command(command)\n",
      "  File \"/usr/local/spark/python/lib/py4j-0.10.9.5-src.zip/py4j/clientserver.py\", line 539, in send_command\n",
      "    raise Py4JNetworkError(\n",
      "py4j.protocol.Py4JNetworkError: Error while sending or receiving\n",
      "ERROR:root:Exception while sending command.\n",
      "Traceback (most recent call last):\n",
      "  File \"/usr/local/spark/python/lib/py4j-0.10.9.5-src.zip/py4j/clientserver.py\", line 516, in send_command\n",
      "    raise Py4JNetworkError(\"Answer from Java side is empty\")\n",
      "py4j.protocol.Py4JNetworkError: Answer from Java side is empty\n",
      "\n",
      "During handling of the above exception, another exception occurred:\n",
      "\n",
      "Traceback (most recent call last):\n",
      "  File \"/usr/local/spark/python/lib/py4j-0.10.9.5-src.zip/py4j/java_gateway.py\", line 1038, in send_command\n",
      "    response = connection.send_command(command)\n",
      "  File \"/usr/local/spark/python/lib/py4j-0.10.9.5-src.zip/py4j/clientserver.py\", line 539, in send_command\n",
      "    raise Py4JNetworkError(\n",
      "py4j.protocol.Py4JNetworkError: Error while sending or receiving\n"
     ]
    },
    {
     "ename": "Py4JError",
     "evalue": "An error occurred while calling o57.save",
     "output_type": "error",
     "traceback": [
      "\u001b[0;31m---------------------------------------------------------------------------\u001b[0m",
      "\u001b[0;31mPy4JError\u001b[0m                                 Traceback (most recent call last)",
      "Cell \u001b[0;32mIn[5], line 1\u001b[0m\n\u001b[0;32m----> 1\u001b[0m \u001b[43mdf\u001b[49m\u001b[38;5;241;43m.\u001b[39;49m\u001b[43mwrite\u001b[49m\u001b[38;5;241;43m.\u001b[39;49m\u001b[43mformat\u001b[49m\u001b[43m(\u001b[49m\u001b[38;5;124;43m\"\u001b[39;49m\u001b[38;5;124;43mdelta\u001b[39;49m\u001b[38;5;124;43m\"\u001b[39;49m\u001b[43m)\u001b[49m\u001b[38;5;241;43m.\u001b[39;49m\u001b[43mmode\u001b[49m\u001b[43m(\u001b[49m\u001b[38;5;124;43m'\u001b[39;49m\u001b[38;5;124;43moverwrite\u001b[39;49m\u001b[38;5;124;43m'\u001b[39;49m\u001b[43m)\u001b[49m\u001b[38;5;241;43m.\u001b[39;49m\u001b[43msave\u001b[49m\u001b[43m(\u001b[49m\u001b[43mpath\u001b[49m\u001b[43m)\u001b[49m\n",
      "File \u001b[0;32m/usr/local/spark/python/pyspark/sql/readwriter.py:968\u001b[0m, in \u001b[0;36mDataFrameWriter.save\u001b[0;34m(self, path, format, mode, partitionBy, **options)\u001b[0m\n\u001b[1;32m    966\u001b[0m     \u001b[38;5;28mself\u001b[39m\u001b[38;5;241m.\u001b[39m_jwrite\u001b[38;5;241m.\u001b[39msave()\n\u001b[1;32m    967\u001b[0m \u001b[38;5;28;01melse\u001b[39;00m:\n\u001b[0;32m--> 968\u001b[0m     \u001b[38;5;28;43mself\u001b[39;49m\u001b[38;5;241;43m.\u001b[39;49m\u001b[43m_jwrite\u001b[49m\u001b[38;5;241;43m.\u001b[39;49m\u001b[43msave\u001b[49m\u001b[43m(\u001b[49m\u001b[43mpath\u001b[49m\u001b[43m)\u001b[49m\n",
      "File \u001b[0;32m/usr/local/spark/python/lib/py4j-0.10.9.5-src.zip/py4j/java_gateway.py:1321\u001b[0m, in \u001b[0;36mJavaMember.__call__\u001b[0;34m(self, *args)\u001b[0m\n\u001b[1;32m   1315\u001b[0m command \u001b[38;5;241m=\u001b[39m proto\u001b[38;5;241m.\u001b[39mCALL_COMMAND_NAME \u001b[38;5;241m+\u001b[39m\\\n\u001b[1;32m   1316\u001b[0m     \u001b[38;5;28mself\u001b[39m\u001b[38;5;241m.\u001b[39mcommand_header \u001b[38;5;241m+\u001b[39m\\\n\u001b[1;32m   1317\u001b[0m     args_command \u001b[38;5;241m+\u001b[39m\\\n\u001b[1;32m   1318\u001b[0m     proto\u001b[38;5;241m.\u001b[39mEND_COMMAND_PART\n\u001b[1;32m   1320\u001b[0m answer \u001b[38;5;241m=\u001b[39m \u001b[38;5;28mself\u001b[39m\u001b[38;5;241m.\u001b[39mgateway_client\u001b[38;5;241m.\u001b[39msend_command(command)\n\u001b[0;32m-> 1321\u001b[0m return_value \u001b[38;5;241m=\u001b[39m \u001b[43mget_return_value\u001b[49m\u001b[43m(\u001b[49m\n\u001b[1;32m   1322\u001b[0m \u001b[43m    \u001b[49m\u001b[43manswer\u001b[49m\u001b[43m,\u001b[49m\u001b[43m \u001b[49m\u001b[38;5;28;43mself\u001b[39;49m\u001b[38;5;241;43m.\u001b[39;49m\u001b[43mgateway_client\u001b[49m\u001b[43m,\u001b[49m\u001b[43m \u001b[49m\u001b[38;5;28;43mself\u001b[39;49m\u001b[38;5;241;43m.\u001b[39;49m\u001b[43mtarget_id\u001b[49m\u001b[43m,\u001b[49m\u001b[43m \u001b[49m\u001b[38;5;28;43mself\u001b[39;49m\u001b[38;5;241;43m.\u001b[39;49m\u001b[43mname\u001b[49m\u001b[43m)\u001b[49m\n\u001b[1;32m   1324\u001b[0m \u001b[38;5;28;01mfor\u001b[39;00m temp_arg \u001b[38;5;129;01min\u001b[39;00m temp_args:\n\u001b[1;32m   1325\u001b[0m     temp_arg\u001b[38;5;241m.\u001b[39m_detach()\n",
      "File \u001b[0;32m/usr/local/spark/python/pyspark/sql/utils.py:190\u001b[0m, in \u001b[0;36mcapture_sql_exception.<locals>.deco\u001b[0;34m(*a, **kw)\u001b[0m\n\u001b[1;32m    188\u001b[0m \u001b[38;5;28;01mdef\u001b[39;00m \u001b[38;5;21mdeco\u001b[39m(\u001b[38;5;241m*\u001b[39ma: Any, \u001b[38;5;241m*\u001b[39m\u001b[38;5;241m*\u001b[39mkw: Any) \u001b[38;5;241m-\u001b[39m\u001b[38;5;241m>\u001b[39m Any:\n\u001b[1;32m    189\u001b[0m     \u001b[38;5;28;01mtry\u001b[39;00m:\n\u001b[0;32m--> 190\u001b[0m         \u001b[38;5;28;01mreturn\u001b[39;00m \u001b[43mf\u001b[49m\u001b[43m(\u001b[49m\u001b[38;5;241;43m*\u001b[39;49m\u001b[43ma\u001b[49m\u001b[43m,\u001b[49m\u001b[43m \u001b[49m\u001b[38;5;241;43m*\u001b[39;49m\u001b[38;5;241;43m*\u001b[39;49m\u001b[43mkw\u001b[49m\u001b[43m)\u001b[49m\n\u001b[1;32m    191\u001b[0m     \u001b[38;5;28;01mexcept\u001b[39;00m Py4JJavaError \u001b[38;5;28;01mas\u001b[39;00m e:\n\u001b[1;32m    192\u001b[0m         converted \u001b[38;5;241m=\u001b[39m convert_exception(e\u001b[38;5;241m.\u001b[39mjava_exception)\n",
      "File \u001b[0;32m/usr/local/spark/python/lib/py4j-0.10.9.5-src.zip/py4j/protocol.py:334\u001b[0m, in \u001b[0;36mget_return_value\u001b[0;34m(answer, gateway_client, target_id, name)\u001b[0m\n\u001b[1;32m    330\u001b[0m             \u001b[38;5;28;01mraise\u001b[39;00m Py4JError(\n\u001b[1;32m    331\u001b[0m                 \u001b[38;5;124m\"\u001b[39m\u001b[38;5;124mAn error occurred while calling \u001b[39m\u001b[38;5;132;01m{0}\u001b[39;00m\u001b[38;5;132;01m{1}\u001b[39;00m\u001b[38;5;132;01m{2}\u001b[39;00m\u001b[38;5;124m. Trace:\u001b[39m\u001b[38;5;130;01m\\n\u001b[39;00m\u001b[38;5;132;01m{3}\u001b[39;00m\u001b[38;5;130;01m\\n\u001b[39;00m\u001b[38;5;124m\"\u001b[39m\u001b[38;5;241m.\u001b[39m\n\u001b[1;32m    332\u001b[0m                 \u001b[38;5;28mformat\u001b[39m(target_id, \u001b[38;5;124m\"\u001b[39m\u001b[38;5;124m.\u001b[39m\u001b[38;5;124m\"\u001b[39m, name, value))\n\u001b[1;32m    333\u001b[0m     \u001b[38;5;28;01melse\u001b[39;00m:\n\u001b[0;32m--> 334\u001b[0m         \u001b[38;5;28;01mraise\u001b[39;00m Py4JError(\n\u001b[1;32m    335\u001b[0m             \u001b[38;5;124m\"\u001b[39m\u001b[38;5;124mAn error occurred while calling \u001b[39m\u001b[38;5;132;01m{0}\u001b[39;00m\u001b[38;5;132;01m{1}\u001b[39;00m\u001b[38;5;132;01m{2}\u001b[39;00m\u001b[38;5;124m\"\u001b[39m\u001b[38;5;241m.\u001b[39m\n\u001b[1;32m    336\u001b[0m             \u001b[38;5;28mformat\u001b[39m(target_id, \u001b[38;5;124m\"\u001b[39m\u001b[38;5;124m.\u001b[39m\u001b[38;5;124m\"\u001b[39m, name))\n\u001b[1;32m    337\u001b[0m \u001b[38;5;28;01melse\u001b[39;00m:\n\u001b[1;32m    338\u001b[0m     \u001b[38;5;28mtype\u001b[39m \u001b[38;5;241m=\u001b[39m answer[\u001b[38;5;241m1\u001b[39m]\n",
      "\u001b[0;31mPy4JError\u001b[0m: An error occurred while calling o57.save"
     ]
    }
   ],
   "source": [
    "df.write.format(\"delta\").mode('overwrite').save(path)"
   ]
  },
  {
   "cell_type": "code",
   "execution_count": 6,
   "id": "43c704a8-7946-4b66-be97-4f5365fd01b1",
   "metadata": {},
   "outputs": [
    {
     "ename": "ConnectionRefusedError",
     "evalue": "[Errno 111] Connection refused",
     "output_type": "error",
     "traceback": [
      "\u001b[0;31m---------------------------------------------------------------------------\u001b[0m",
      "\u001b[0;31mConnectionRefusedError\u001b[0m                    Traceback (most recent call last)",
      "Cell \u001b[0;32mIn[6], line 1\u001b[0m\n\u001b[0;32m----> 1\u001b[0m \u001b[43mdf\u001b[49m\u001b[38;5;241;43m.\u001b[39;49m\u001b[43mprintSchema\u001b[49m\u001b[43m(\u001b[49m\u001b[43m)\u001b[49m\n",
      "File \u001b[0;32m/usr/local/spark/python/pyspark/sql/dataframe.py:392\u001b[0m, in \u001b[0;36mDataFrame.printSchema\u001b[0;34m(self)\u001b[0m\n\u001b[1;32m    379\u001b[0m \u001b[38;5;28;01mdef\u001b[39;00m \u001b[38;5;21mprintSchema\u001b[39m(\u001b[38;5;28mself\u001b[39m) \u001b[38;5;241m-\u001b[39m\u001b[38;5;241m>\u001b[39m \u001b[38;5;28;01mNone\u001b[39;00m:\n\u001b[1;32m    380\u001b[0m \u001b[38;5;250m    \u001b[39m\u001b[38;5;124;03m\"\"\"Prints out the schema in the tree format.\u001b[39;00m\n\u001b[1;32m    381\u001b[0m \n\u001b[1;32m    382\u001b[0m \u001b[38;5;124;03m    .. versionadded:: 1.3.0\u001b[39;00m\n\u001b[0;32m   (...)\u001b[0m\n\u001b[1;32m    390\u001b[0m \u001b[38;5;124;03m    <BLANKLINE>\u001b[39;00m\n\u001b[1;32m    391\u001b[0m \u001b[38;5;124;03m    \"\"\"\u001b[39;00m\n\u001b[0;32m--> 392\u001b[0m     \u001b[38;5;28mprint\u001b[39m(\u001b[38;5;28;43mself\u001b[39;49m\u001b[38;5;241;43m.\u001b[39;49m\u001b[43m_jdf\u001b[49m\u001b[38;5;241;43m.\u001b[39;49m\u001b[43mschema\u001b[49m\u001b[43m(\u001b[49m\u001b[43m)\u001b[49m\u001b[38;5;241m.\u001b[39mtreeString())\n",
      "File \u001b[0;32m/usr/local/spark/python/lib/py4j-0.10.9.5-src.zip/py4j/java_gateway.py:1320\u001b[0m, in \u001b[0;36mJavaMember.__call__\u001b[0;34m(self, *args)\u001b[0m\n\u001b[1;32m   1313\u001b[0m args_command, temp_args \u001b[38;5;241m=\u001b[39m \u001b[38;5;28mself\u001b[39m\u001b[38;5;241m.\u001b[39m_build_args(\u001b[38;5;241m*\u001b[39margs)\n\u001b[1;32m   1315\u001b[0m command \u001b[38;5;241m=\u001b[39m proto\u001b[38;5;241m.\u001b[39mCALL_COMMAND_NAME \u001b[38;5;241m+\u001b[39m\\\n\u001b[1;32m   1316\u001b[0m     \u001b[38;5;28mself\u001b[39m\u001b[38;5;241m.\u001b[39mcommand_header \u001b[38;5;241m+\u001b[39m\\\n\u001b[1;32m   1317\u001b[0m     args_command \u001b[38;5;241m+\u001b[39m\\\n\u001b[1;32m   1318\u001b[0m     proto\u001b[38;5;241m.\u001b[39mEND_COMMAND_PART\n\u001b[0;32m-> 1320\u001b[0m answer \u001b[38;5;241m=\u001b[39m \u001b[38;5;28;43mself\u001b[39;49m\u001b[38;5;241;43m.\u001b[39;49m\u001b[43mgateway_client\u001b[49m\u001b[38;5;241;43m.\u001b[39;49m\u001b[43msend_command\u001b[49m\u001b[43m(\u001b[49m\u001b[43mcommand\u001b[49m\u001b[43m)\u001b[49m\n\u001b[1;32m   1321\u001b[0m return_value \u001b[38;5;241m=\u001b[39m get_return_value(\n\u001b[1;32m   1322\u001b[0m     answer, \u001b[38;5;28mself\u001b[39m\u001b[38;5;241m.\u001b[39mgateway_client, \u001b[38;5;28mself\u001b[39m\u001b[38;5;241m.\u001b[39mtarget_id, \u001b[38;5;28mself\u001b[39m\u001b[38;5;241m.\u001b[39mname)\n\u001b[1;32m   1324\u001b[0m \u001b[38;5;28;01mfor\u001b[39;00m temp_arg \u001b[38;5;129;01min\u001b[39;00m temp_args:\n",
      "File \u001b[0;32m/usr/local/spark/python/lib/py4j-0.10.9.5-src.zip/py4j/java_gateway.py:1036\u001b[0m, in \u001b[0;36mGatewayClient.send_command\u001b[0;34m(self, command, retry, binary)\u001b[0m\n\u001b[1;32m   1015\u001b[0m \u001b[38;5;28;01mdef\u001b[39;00m \u001b[38;5;21msend_command\u001b[39m(\u001b[38;5;28mself\u001b[39m, command, retry\u001b[38;5;241m=\u001b[39m\u001b[38;5;28;01mTrue\u001b[39;00m, binary\u001b[38;5;241m=\u001b[39m\u001b[38;5;28;01mFalse\u001b[39;00m):\n\u001b[1;32m   1016\u001b[0m \u001b[38;5;250m    \u001b[39m\u001b[38;5;124;03m\"\"\"Sends a command to the JVM. This method is not intended to be\u001b[39;00m\n\u001b[1;32m   1017\u001b[0m \u001b[38;5;124;03m       called directly by Py4J users. It is usually called by\u001b[39;00m\n\u001b[1;32m   1018\u001b[0m \u001b[38;5;124;03m       :class:`JavaMember` instances.\u001b[39;00m\n\u001b[0;32m   (...)\u001b[0m\n\u001b[1;32m   1034\u001b[0m \u001b[38;5;124;03m     if `binary` is `True`.\u001b[39;00m\n\u001b[1;32m   1035\u001b[0m \u001b[38;5;124;03m    \"\"\"\u001b[39;00m\n\u001b[0;32m-> 1036\u001b[0m     connection \u001b[38;5;241m=\u001b[39m \u001b[38;5;28;43mself\u001b[39;49m\u001b[38;5;241;43m.\u001b[39;49m\u001b[43m_get_connection\u001b[49m\u001b[43m(\u001b[49m\u001b[43m)\u001b[49m\n\u001b[1;32m   1037\u001b[0m     \u001b[38;5;28;01mtry\u001b[39;00m:\n\u001b[1;32m   1038\u001b[0m         response \u001b[38;5;241m=\u001b[39m connection\u001b[38;5;241m.\u001b[39msend_command(command)\n",
      "File \u001b[0;32m/usr/local/spark/python/lib/py4j-0.10.9.5-src.zip/py4j/clientserver.py:284\u001b[0m, in \u001b[0;36mJavaClient._get_connection\u001b[0;34m(self)\u001b[0m\n\u001b[1;32m    281\u001b[0m     \u001b[38;5;28;01mpass\u001b[39;00m\n\u001b[1;32m    283\u001b[0m \u001b[38;5;28;01mif\u001b[39;00m connection \u001b[38;5;129;01mis\u001b[39;00m \u001b[38;5;28;01mNone\u001b[39;00m \u001b[38;5;129;01mor\u001b[39;00m connection\u001b[38;5;241m.\u001b[39msocket \u001b[38;5;129;01mis\u001b[39;00m \u001b[38;5;28;01mNone\u001b[39;00m:\n\u001b[0;32m--> 284\u001b[0m     connection \u001b[38;5;241m=\u001b[39m \u001b[38;5;28;43mself\u001b[39;49m\u001b[38;5;241;43m.\u001b[39;49m\u001b[43m_create_new_connection\u001b[49m\u001b[43m(\u001b[49m\u001b[43m)\u001b[49m\n\u001b[1;32m    285\u001b[0m \u001b[38;5;28;01mreturn\u001b[39;00m connection\n",
      "File \u001b[0;32m/usr/local/spark/python/lib/py4j-0.10.9.5-src.zip/py4j/clientserver.py:291\u001b[0m, in \u001b[0;36mJavaClient._create_new_connection\u001b[0;34m(self)\u001b[0m\n\u001b[1;32m    287\u001b[0m \u001b[38;5;28;01mdef\u001b[39;00m \u001b[38;5;21m_create_new_connection\u001b[39m(\u001b[38;5;28mself\u001b[39m):\n\u001b[1;32m    288\u001b[0m     connection \u001b[38;5;241m=\u001b[39m ClientServerConnection(\n\u001b[1;32m    289\u001b[0m         \u001b[38;5;28mself\u001b[39m\u001b[38;5;241m.\u001b[39mjava_parameters, \u001b[38;5;28mself\u001b[39m\u001b[38;5;241m.\u001b[39mpython_parameters,\n\u001b[1;32m    290\u001b[0m         \u001b[38;5;28mself\u001b[39m\u001b[38;5;241m.\u001b[39mgateway_property, \u001b[38;5;28mself\u001b[39m)\n\u001b[0;32m--> 291\u001b[0m     \u001b[43mconnection\u001b[49m\u001b[38;5;241;43m.\u001b[39;49m\u001b[43mconnect_to_java_server\u001b[49m\u001b[43m(\u001b[49m\u001b[43m)\u001b[49m\n\u001b[1;32m    292\u001b[0m     \u001b[38;5;28mself\u001b[39m\u001b[38;5;241m.\u001b[39mset_thread_connection(connection)\n\u001b[1;32m    293\u001b[0m     \u001b[38;5;28;01mreturn\u001b[39;00m connection\n",
      "File \u001b[0;32m/usr/local/spark/python/lib/py4j-0.10.9.5-src.zip/py4j/clientserver.py:438\u001b[0m, in \u001b[0;36mClientServerConnection.connect_to_java_server\u001b[0;34m(self)\u001b[0m\n\u001b[1;32m    435\u001b[0m \u001b[38;5;28;01mif\u001b[39;00m \u001b[38;5;28mself\u001b[39m\u001b[38;5;241m.\u001b[39mssl_context:\n\u001b[1;32m    436\u001b[0m     \u001b[38;5;28mself\u001b[39m\u001b[38;5;241m.\u001b[39msocket \u001b[38;5;241m=\u001b[39m \u001b[38;5;28mself\u001b[39m\u001b[38;5;241m.\u001b[39mssl_context\u001b[38;5;241m.\u001b[39mwrap_socket(\n\u001b[1;32m    437\u001b[0m         \u001b[38;5;28mself\u001b[39m\u001b[38;5;241m.\u001b[39msocket, server_hostname\u001b[38;5;241m=\u001b[39m\u001b[38;5;28mself\u001b[39m\u001b[38;5;241m.\u001b[39mjava_address)\n\u001b[0;32m--> 438\u001b[0m \u001b[38;5;28;43mself\u001b[39;49m\u001b[38;5;241;43m.\u001b[39;49m\u001b[43msocket\u001b[49m\u001b[38;5;241;43m.\u001b[39;49m\u001b[43mconnect\u001b[49m\u001b[43m(\u001b[49m\u001b[43m(\u001b[49m\u001b[38;5;28;43mself\u001b[39;49m\u001b[38;5;241;43m.\u001b[39;49m\u001b[43mjava_address\u001b[49m\u001b[43m,\u001b[49m\u001b[43m \u001b[49m\u001b[38;5;28;43mself\u001b[39;49m\u001b[38;5;241;43m.\u001b[39;49m\u001b[43mjava_port\u001b[49m\u001b[43m)\u001b[49m\u001b[43m)\u001b[49m\n\u001b[1;32m    439\u001b[0m \u001b[38;5;28mself\u001b[39m\u001b[38;5;241m.\u001b[39mstream \u001b[38;5;241m=\u001b[39m \u001b[38;5;28mself\u001b[39m\u001b[38;5;241m.\u001b[39msocket\u001b[38;5;241m.\u001b[39mmakefile(\u001b[38;5;124m\"\u001b[39m\u001b[38;5;124mrb\u001b[39m\u001b[38;5;124m\"\u001b[39m)\n\u001b[1;32m    440\u001b[0m \u001b[38;5;28mself\u001b[39m\u001b[38;5;241m.\u001b[39mis_connected \u001b[38;5;241m=\u001b[39m \u001b[38;5;28;01mTrue\u001b[39;00m\n",
      "\u001b[0;31mConnectionRefusedError\u001b[0m: [Errno 111] Connection refused"
     ]
    }
   ],
   "source": [
    "df.printSchema()"
   ]
  },
  {
   "cell_type": "code",
   "execution_count": null,
   "id": "b8683df9-2260-4683-acb7-5fe281faac67",
   "metadata": {},
   "outputs": [],
   "source": [
    "deltaTable = DeltaTable.forPath(spark, path)"
   ]
  },
  {
   "cell_type": "code",
   "execution_count": null,
   "id": "180542af-2003-4b76-a666-44c9534e768a",
   "metadata": {},
   "outputs": [],
   "source": [
    "type(deltaTable)"
   ]
  },
  {
   "cell_type": "code",
   "execution_count": null,
   "id": "c249eb3d-94da-4900-abab-b3abc5368028",
   "metadata": {},
   "outputs": [],
   "source": [
    "d = spark.read.format(\"delta\").load(path)"
   ]
  },
  {
   "cell_type": "code",
   "execution_count": null,
   "id": "7367eac5-a871-4835-b956-b976d93cddfb",
   "metadata": {},
   "outputs": [],
   "source": [
    "d.show()"
   ]
  },
  {
   "cell_type": "code",
   "execution_count": null,
   "id": "4630c481-ae56-4f35-bbb3-597eed6c37a1",
   "metadata": {},
   "outputs": [],
   "source": [
    "type(d)"
   ]
  },
  {
   "cell_type": "code",
   "execution_count": null,
   "id": "5af3fd1b-0635-4770-b685-6cd79b38c1bc",
   "metadata": {},
   "outputs": [],
   "source": [
    "deltaTable.toDF().printSchema()"
   ]
  },
  {
   "cell_type": "code",
   "execution_count": null,
   "id": "9522f298-71a9-464d-91e8-25270a37f3e3",
   "metadata": {},
   "outputs": [],
   "source": [
    "d.filter(d.countryCountry == 'Brazil').show()"
   ]
  },
  {
   "cell_type": "code",
   "execution_count": 18,
   "id": "307feed2-ac8c-4e3a-bb33-5ef4aa28b7ba",
   "metadata": {},
   "outputs": [],
   "source": [
    "code = spark.read.csv('s3a://camada-bronze/country_code.csv',header=True)"
   ]
  },
  {
   "cell_type": "code",
   "execution_count": 19,
   "id": "885e5b24-517d-4318-951b-6dce26112863",
   "metadata": {},
   "outputs": [
    {
     "name": "stdout",
     "output_type": "stream",
     "text": [
      "+-------------------+-------+-------+------------+-------------+--------+--------------------+-------------------+-----------+---------------+------------------------+\n",
      "|               name|alpha-2|alpha-3|country-code|   iso_3166-2|  region|          sub-region|intermediate-region|region-code|sub-region-code|intermediate-region-code|\n",
      "+-------------------+-------+-------+------------+-------------+--------+--------------------+-------------------+-----------+---------------+------------------------+\n",
      "|        Afghanistan|     AF|    AFG|         004|ISO 3166-2:AF|    Asia|       Southern Asia|               null|        142|            034|                    null|\n",
      "|      Åland Islands|     AX|    ALA|         248|ISO 3166-2:AX|  Europe|     Northern Europe|               null|        150|            154|                    null|\n",
      "|            Albania|     AL|    ALB|         008|ISO 3166-2:AL|  Europe|     Southern Europe|               null|        150|            039|                    null|\n",
      "|            Algeria|     DZ|    DZA|         012|ISO 3166-2:DZ|  Africa|     Northern Africa|               null|        002|            015|                    null|\n",
      "|     American Samoa|     AS|    ASM|         016|ISO 3166-2:AS| Oceania|           Polynesia|               null|        009|            061|                    null|\n",
      "|            Andorra|     AD|    AND|         020|ISO 3166-2:AD|  Europe|     Southern Europe|               null|        150|            039|                    null|\n",
      "|             Angola|     AO|    AGO|         024|ISO 3166-2:AO|  Africa|  Sub-Saharan Africa|      Middle Africa|        002|            202|                     017|\n",
      "|           Anguilla|     AI|    AIA|         660|ISO 3166-2:AI|Americas|Latin America and...|          Caribbean|        019|            419|                     029|\n",
      "|         Antarctica|     AQ|    ATA|         010|ISO 3166-2:AQ|    null|                null|               null|       null|           null|                    null|\n",
      "|Antigua and Barbuda|     AG|    ATG|         028|ISO 3166-2:AG|Americas|Latin America and...|          Caribbean|        019|            419|                     029|\n",
      "|          Argentina|     AR|    ARG|         032|ISO 3166-2:AR|Americas|Latin America and...|      South America|        019|            419|                     005|\n",
      "|            Armenia|     AM|    ARM|         051|ISO 3166-2:AM|    Asia|        Western Asia|               null|        142|            145|                    null|\n",
      "|              Aruba|     AW|    ABW|         533|ISO 3166-2:AW|Americas|Latin America and...|          Caribbean|        019|            419|                     029|\n",
      "|          Australia|     AU|    AUS|         036|ISO 3166-2:AU| Oceania|Australia and New...|               null|        009|            053|                    null|\n",
      "|            Austria|     AT|    AUT|         040|ISO 3166-2:AT|  Europe|      Western Europe|               null|        150|            155|                    null|\n",
      "|         Azerbaijan|     AZ|    AZE|         031|ISO 3166-2:AZ|    Asia|        Western Asia|               null|        142|            145|                    null|\n",
      "|            Bahamas|     BS|    BHS|         044|ISO 3166-2:BS|Americas|Latin America and...|          Caribbean|        019|            419|                     029|\n",
      "|            Bahrain|     BH|    BHR|         048|ISO 3166-2:BH|    Asia|        Western Asia|               null|        142|            145|                    null|\n",
      "|         Bangladesh|     BD|    BGD|         050|ISO 3166-2:BD|    Asia|       Southern Asia|               null|        142|            034|                    null|\n",
      "|           Barbados|     BB|    BRB|         052|ISO 3166-2:BB|Americas|Latin America and...|          Caribbean|        019|            419|                     029|\n",
      "+-------------------+-------+-------+------------+-------------+--------+--------------------+-------------------+-----------+---------------+------------------------+\n",
      "only showing top 20 rows\n",
      "\n"
     ]
    }
   ],
   "source": [
    "code.show()"
   ]
  },
  {
   "cell_type": "code",
   "execution_count": 21,
   "id": "9aacb512-78d0-434d-add0-03da044c3c39",
   "metadata": {},
   "outputs": [
    {
     "name": "stdout",
     "output_type": "stream",
     "text": [
      "+----------+-------------+-------------+--------------+--------------+--------------+--------------+--------------+-----------+------+-------+-------+------------+-------------+--------+--------------------+-------------------+-----------+---------------+------------------------+\n",
      "|        dt|home_teamName|away_teamName|home_scoreHome|away_scoreAway|tournamentName|      cityCity|countryCountry|neutralTRUE|  name|alpha-2|alpha-3|country-code|   iso_3166-2|  region|          sub-region|intermediate-region|region-code|sub-region-code|intermediate-region-code|\n",
      "+----------+-------------+-------------+--------------+--------------+--------------+--------------+--------------+-----------+------+-------+-------+------------+-------------+--------+--------------------+-------------------+-----------+---------------+------------------------+\n",
      "|1919-05-11|       Brazil|        Chile|             6|             0|  Copa América|Rio de Janeiro|        Brazil|      FALSE|Brazil|     BR|    BRA|         076|ISO 3166-2:BR|Americas|Latin America and...|      South America|        019|            419|                     005|\n",
      "|1919-05-13|    Argentina|      Uruguay|             2|             3|  Copa América|Rio de Janeiro|        Brazil|       TRUE|Brazil|     BR|    BRA|         076|ISO 3166-2:BR|Americas|Latin America and...|      South America|        019|            419|                     005|\n",
      "|1919-05-17|        Chile|      Uruguay|             0|             2|  Copa América|Rio de Janeiro|        Brazil|       TRUE|Brazil|     BR|    BRA|         076|ISO 3166-2:BR|Americas|Latin America and...|      South America|        019|            419|                     005|\n",
      "|1919-05-18|       Brazil|    Argentina|             3|             1|  Copa América|Rio de Janeiro|        Brazil|      FALSE|Brazil|     BR|    BRA|         076|ISO 3166-2:BR|Americas|Latin America and...|      South America|        019|            419|                     005|\n",
      "|1919-05-22|    Argentina|        Chile|             4|             1|  Copa América|Rio de Janeiro|        Brazil|       TRUE|Brazil|     BR|    BRA|         076|ISO 3166-2:BR|Americas|Latin America and...|      South America|        019|            419|                     005|\n",
      "|1919-05-26|       Brazil|      Uruguay|             2|             2|  Copa América|Rio de Janeiro|        Brazil|      FALSE|Brazil|     BR|    BRA|         076|ISO 3166-2:BR|Americas|Latin America and...|      South America|        019|            419|                     005|\n",
      "|1919-05-29|       Brazil|      Uruguay|             1|             0|  Copa América|Rio de Janeiro|        Brazil|      FALSE|Brazil|     BR|    BRA|         076|ISO 3166-2:BR|Americas|Latin America and...|      South America|        019|            419|                     005|\n",
      "|1919-06-01|       Brazil|    Argentina|             3|             3|      Friendly|Rio de Janeiro|        Brazil|      FALSE|Brazil|     BR|    BRA|         076|ISO 3166-2:BR|Americas|Latin America and...|      South America|        019|            419|                     005|\n",
      "|1922-09-17|       Brazil|        Chile|             1|             1|  Copa América|Rio de Janeiro|        Brazil|      FALSE|Brazil|     BR|    BRA|         076|ISO 3166-2:BR|Americas|Latin America and...|      South America|        019|            419|                     005|\n",
      "|1922-09-23|        Chile|      Uruguay|             0|             2|  Copa América|Rio de Janeiro|        Brazil|       TRUE|Brazil|     BR|    BRA|         076|ISO 3166-2:BR|Americas|Latin America and...|      South America|        019|            419|                     005|\n",
      "|1922-09-24|       Brazil|     Paraguay|             1|             1|  Copa América|Rio de Janeiro|        Brazil|      FALSE|Brazil|     BR|    BRA|         076|ISO 3166-2:BR|Americas|Latin America and...|      South America|        019|            419|                     005|\n",
      "|1922-09-28|    Argentina|        Chile|             4|             0|  Copa América|Rio de Janeiro|        Brazil|       TRUE|Brazil|     BR|    BRA|         076|ISO 3166-2:BR|Americas|Latin America and...|      South America|        019|            419|                     005|\n",
      "|1922-10-01|       Brazil|      Uruguay|             0|             0|  Copa América|Rio de Janeiro|        Brazil|      FALSE|Brazil|     BR|    BRA|         076|ISO 3166-2:BR|Americas|Latin America and...|      South America|        019|            419|                     005|\n",
      "|1922-10-05|        Chile|     Paraguay|             0|             3|  Copa América|Rio de Janeiro|        Brazil|       TRUE|Brazil|     BR|    BRA|         076|ISO 3166-2:BR|Americas|Latin America and...|      South America|        019|            419|                     005|\n",
      "|1922-10-08|    Argentina|      Uruguay|             0|             1|  Copa América|Rio de Janeiro|        Brazil|       TRUE|Brazil|     BR|    BRA|         076|ISO 3166-2:BR|Americas|Latin America and...|      South America|        019|            419|                     005|\n",
      "|1922-10-12|     Paraguay|      Uruguay|             1|             0|  Copa América|Rio de Janeiro|        Brazil|       TRUE|Brazil|     BR|    BRA|         076|ISO 3166-2:BR|Americas|Latin America and...|      South America|        019|            419|                     005|\n",
      "|1922-10-15|       Brazil|    Argentina|             2|             0|  Copa América|Rio de Janeiro|        Brazil|      FALSE|Brazil|     BR|    BRA|         076|ISO 3166-2:BR|Americas|Latin America and...|      South America|        019|            419|                     005|\n",
      "|1922-10-18|    Argentina|     Paraguay|             2|             0|  Copa América|Rio de Janeiro|        Brazil|       TRUE|Brazil|     BR|    BRA|         076|ISO 3166-2:BR|Americas|Latin America and...|      South America|        019|            419|                     005|\n",
      "|1922-10-22|       Brazil|     Paraguay|             3|             0|  Copa América|Rio de Janeiro|        Brazil|      FALSE|Brazil|     BR|    BRA|         076|ISO 3166-2:BR|Americas|Latin America and...|      South America|        019|            419|                     005|\n",
      "|1922-10-22|       Brazil|    Argentina|             2|             1|     Copa Roca|     São Paulo|        Brazil|      FALSE|Brazil|     BR|    BRA|         076|ISO 3166-2:BR|Americas|Latin America and...|      South America|        019|            419|                     005|\n",
      "+----------+-------------+-------------+--------------+--------------+--------------+--------------+--------------+-----------+------+-------+-------+------------+-------------+--------+--------------------+-------------------+-----------+---------------+------------------------+\n",
      "only showing top 20 rows\n",
      "\n"
     ]
    }
   ],
   "source": [
    "df_jogosNoBrasil.join(code,df.countryCountry == code.name,'left').show()"
   ]
  },
  {
   "cell_type": "code",
   "execution_count": null,
   "id": "70f53cb7-38be-43f7-926f-e38518daf1c8",
   "metadata": {},
   "outputs": [],
   "source": []
  },
  {
   "cell_type": "code",
   "execution_count": null,
   "id": "cbdd487b-bbe1-4b71-9fca-3b7fe2988937",
   "metadata": {},
   "outputs": [],
   "source": []
  },
  {
   "cell_type": "code",
   "execution_count": null,
   "id": "8c5c262a-7181-4b94-a649-776c90d8faca",
   "metadata": {},
   "outputs": [],
   "source": [
    "from delta.tables import *\n",
    "from pyspark.sql.functions import *\n",
    "\n",
    "deltaTable.alias(\"delta\") \\\n",
    "  .merge(\n",
    "    code.alias(\"code\"),\n",
    "    \"delta.countryCountry = code.name\") \\\n",
    "  .whenNotMatchedInsert(values = { \"code\": col(\"code.alpha-3\") }) \\\n",
    "  .execute()"
   ]
  },
  {
   "cell_type": "code",
   "execution_count": null,
   "id": "837c42cc-5baa-438d-8d74-960d6365cb92",
   "metadata": {},
   "outputs": [],
   "source": []
  },
  {
   "cell_type": "code",
   "execution_count": null,
   "id": "e03685fa-b94b-4995-b213-a9fb209cb48f",
   "metadata": {
    "tags": []
   },
   "outputs": [],
   "source": [
    "from delta.tables import *\n",
    "from pyspark.sql.functions import *\n",
    "\n",
    "# Update every even value by adding 100 to it\n",
    "deltaTable.update(\n",
    "  condition = expr(\"id % 2 == 0\"),\n",
    "  set = { \"id\": expr(\"id + 100\") })\n",
    "\n",
    "# Delete every even value\n",
    "deltaTable.delete(condition = expr(\"id % 2 == 0\"))\n",
    "\n",
    "# Upsert (merge) new data\n",
    "newData = spark.range(0, 20)\n",
    "\n",
    "deltaTable.alias(\"delta\") \\\n",
    "  .merge(\n",
    "    code.alias(\"code\"),\n",
    "    \"delta.countryCountry = code.name\") \\\n",
    "  .whenMatchedUpdate(set = { \"id\": col(\"newData.id\") }) \\\n",
    "  .whenNotMatchedInsert(values = { \"id\": col(\"newData.id\") }) \\\n",
    "  .execute()\n",
    "\n",
    "deltaTable.toDF().show()"
   ]
  },
  {
   "cell_type": "code",
   "execution_count": null,
   "id": "073abf2d-ed8c-4deb-a1f2-2bee737996f4",
   "metadata": {
    "tags": []
   },
   "outputs": [],
   "source": [
    "data = spark.range(0, 5)\n",
    "data.write.format(\"delta\").save(\"s3a://tmp/delta-table\")"
   ]
  },
  {
   "cell_type": "code",
   "execution_count": null,
   "id": "b90ec428-2788-4828-b3c6-615ed5092349",
   "metadata": {},
   "outputs": [],
   "source": [
    "spark.sql('show databases').show()\n"
   ]
  },
  {
   "cell_type": "code",
   "execution_count": 12,
   "id": "ffe1bb05-e22e-4b32-8658-8b866a0bef24",
   "metadata": {},
   "outputs": [
    {
     "ename": "AnalysisException",
     "evalue": "Temporary view 'tab' already exists",
     "output_type": "error",
     "traceback": [
      "\u001b[0;31m---------------------------------------------------------------------------\u001b[0m",
      "\u001b[0;31mAnalysisException\u001b[0m                         Traceback (most recent call last)",
      "Cell \u001b[0;32mIn[12], line 1\u001b[0m\n\u001b[0;32m----> 1\u001b[0m \u001b[43mdf\u001b[49m\u001b[38;5;241;43m.\u001b[39;49m\u001b[43mcreateTempView\u001b[49m\u001b[43m(\u001b[49m\u001b[38;5;124;43m'\u001b[39;49m\u001b[38;5;124;43mtab\u001b[39;49m\u001b[38;5;124;43m'\u001b[39;49m\u001b[43m)\u001b[49m\n",
      "File \u001b[0;32m/usr/local/spark/python/pyspark/sql/dataframe.py:256\u001b[0m, in \u001b[0;36mDataFrame.createTempView\u001b[0;34m(self, name)\u001b[0m\n\u001b[1;32m    232\u001b[0m \u001b[38;5;28;01mdef\u001b[39;00m \u001b[38;5;21mcreateTempView\u001b[39m(\u001b[38;5;28mself\u001b[39m, name: \u001b[38;5;28mstr\u001b[39m) \u001b[38;5;241m-\u001b[39m\u001b[38;5;241m>\u001b[39m \u001b[38;5;28;01mNone\u001b[39;00m:\n\u001b[1;32m    233\u001b[0m \u001b[38;5;250m    \u001b[39m\u001b[38;5;124;03m\"\"\"Creates a local temporary view with this :class:`DataFrame`.\u001b[39;00m\n\u001b[1;32m    234\u001b[0m \n\u001b[1;32m    235\u001b[0m \u001b[38;5;124;03m    The lifetime of this temporary table is tied to the :class:`SparkSession`\u001b[39;00m\n\u001b[0;32m   (...)\u001b[0m\n\u001b[1;32m    254\u001b[0m \n\u001b[1;32m    255\u001b[0m \u001b[38;5;124;03m    \"\"\"\u001b[39;00m\n\u001b[0;32m--> 256\u001b[0m     \u001b[38;5;28;43mself\u001b[39;49m\u001b[38;5;241;43m.\u001b[39;49m\u001b[43m_jdf\u001b[49m\u001b[38;5;241;43m.\u001b[39;49m\u001b[43mcreateTempView\u001b[49m\u001b[43m(\u001b[49m\u001b[43mname\u001b[49m\u001b[43m)\u001b[49m\n",
      "File \u001b[0;32m/usr/local/spark/python/lib/py4j-0.10.9.5-src.zip/py4j/java_gateway.py:1321\u001b[0m, in \u001b[0;36mJavaMember.__call__\u001b[0;34m(self, *args)\u001b[0m\n\u001b[1;32m   1315\u001b[0m command \u001b[38;5;241m=\u001b[39m proto\u001b[38;5;241m.\u001b[39mCALL_COMMAND_NAME \u001b[38;5;241m+\u001b[39m\\\n\u001b[1;32m   1316\u001b[0m     \u001b[38;5;28mself\u001b[39m\u001b[38;5;241m.\u001b[39mcommand_header \u001b[38;5;241m+\u001b[39m\\\n\u001b[1;32m   1317\u001b[0m     args_command \u001b[38;5;241m+\u001b[39m\\\n\u001b[1;32m   1318\u001b[0m     proto\u001b[38;5;241m.\u001b[39mEND_COMMAND_PART\n\u001b[1;32m   1320\u001b[0m answer \u001b[38;5;241m=\u001b[39m \u001b[38;5;28mself\u001b[39m\u001b[38;5;241m.\u001b[39mgateway_client\u001b[38;5;241m.\u001b[39msend_command(command)\n\u001b[0;32m-> 1321\u001b[0m return_value \u001b[38;5;241m=\u001b[39m \u001b[43mget_return_value\u001b[49m\u001b[43m(\u001b[49m\n\u001b[1;32m   1322\u001b[0m \u001b[43m    \u001b[49m\u001b[43manswer\u001b[49m\u001b[43m,\u001b[49m\u001b[43m \u001b[49m\u001b[38;5;28;43mself\u001b[39;49m\u001b[38;5;241;43m.\u001b[39;49m\u001b[43mgateway_client\u001b[49m\u001b[43m,\u001b[49m\u001b[43m \u001b[49m\u001b[38;5;28;43mself\u001b[39;49m\u001b[38;5;241;43m.\u001b[39;49m\u001b[43mtarget_id\u001b[49m\u001b[43m,\u001b[49m\u001b[43m \u001b[49m\u001b[38;5;28;43mself\u001b[39;49m\u001b[38;5;241;43m.\u001b[39;49m\u001b[43mname\u001b[49m\u001b[43m)\u001b[49m\n\u001b[1;32m   1324\u001b[0m \u001b[38;5;28;01mfor\u001b[39;00m temp_arg \u001b[38;5;129;01min\u001b[39;00m temp_args:\n\u001b[1;32m   1325\u001b[0m     temp_arg\u001b[38;5;241m.\u001b[39m_detach()\n",
      "File \u001b[0;32m/usr/local/spark/python/pyspark/sql/utils.py:196\u001b[0m, in \u001b[0;36mcapture_sql_exception.<locals>.deco\u001b[0;34m(*a, **kw)\u001b[0m\n\u001b[1;32m    192\u001b[0m converted \u001b[38;5;241m=\u001b[39m convert_exception(e\u001b[38;5;241m.\u001b[39mjava_exception)\n\u001b[1;32m    193\u001b[0m \u001b[38;5;28;01mif\u001b[39;00m \u001b[38;5;129;01mnot\u001b[39;00m \u001b[38;5;28misinstance\u001b[39m(converted, UnknownException):\n\u001b[1;32m    194\u001b[0m     \u001b[38;5;66;03m# Hide where the exception came from that shows a non-Pythonic\u001b[39;00m\n\u001b[1;32m    195\u001b[0m     \u001b[38;5;66;03m# JVM exception message.\u001b[39;00m\n\u001b[0;32m--> 196\u001b[0m     \u001b[38;5;28;01mraise\u001b[39;00m converted \u001b[38;5;28;01mfrom\u001b[39;00m \u001b[38;5;28mNone\u001b[39m\n\u001b[1;32m    197\u001b[0m \u001b[38;5;28;01melse\u001b[39;00m:\n\u001b[1;32m    198\u001b[0m     \u001b[38;5;28;01mraise\u001b[39;00m\n",
      "\u001b[0;31mAnalysisException\u001b[0m: Temporary view 'tab' already exists"
     ]
    }
   ],
   "source": [
    "df.createTempView('tab')"
   ]
  },
  {
   "cell_type": "code",
   "execution_count": 16,
   "id": "bc127e1c-62d7-4e4e-83c9-dffceae3ed3b",
   "metadata": {},
   "outputs": [
    {
     "name": "stdout",
     "output_type": "stream",
     "text": [
      "+----------+-------------+-------------+--------------+--------------+--------------+--------------+--------------+-----------+\n",
      "|        dt|home_teamName|away_teamName|home_scoreHome|away_scoreAway|tournamentName|      cityCity|countryCountry|neutralTRUE|\n",
      "+----------+-------------+-------------+--------------+--------------+--------------+--------------+--------------+-----------+\n",
      "|2019-07-07|       Brazil|         Peru|             3|             1|  Copa América|Rio de Janeiro|        Brazil|      FALSE|\n",
      "|2019-07-06|    Argentina|        Chile|             2|             1|  Copa América|     São Paulo|        Brazil|       TRUE|\n",
      "|2019-07-03|        Chile|         Peru|             0|             3|  Copa América|  Porto Alegre|        Brazil|       TRUE|\n",
      "|2019-07-02|       Brazil|    Argentina|             2|             0|  Copa América|Belo Horizonte|        Brazil|      FALSE|\n",
      "|2019-06-29|      Uruguay|         Peru|             0|             0|  Copa América|      Salvador|        Brazil|       TRUE|\n",
      "|2019-06-28|    Venezuela|    Argentina|             0|             2|  Copa América|Rio de Janeiro|        Brazil|       TRUE|\n",
      "|2019-06-28|     Colombia|        Chile|             0|             0|  Copa América|     São Paulo|        Brazil|       TRUE|\n",
      "|2019-06-27|       Brazil|     Paraguay|             0|             0|  Copa América|  Porto Alegre|        Brazil|      FALSE|\n",
      "|2019-06-24|        Chile|      Uruguay|             0|             1|  Copa América|Rio de Janeiro|        Brazil|       TRUE|\n",
      "|2019-06-24|      Ecuador|        Japan|             1|             1|  Copa América|Belo Horizonte|        Brazil|       TRUE|\n",
      "|2019-06-23|        Qatar|    Argentina|             0|             2|  Copa América|  Porto Alegre|        Brazil|       TRUE|\n",
      "|2019-06-23|     Colombia|     Paraguay|             1|             0|  Copa América|      Salvador|        Brazil|       TRUE|\n",
      "|2019-06-22|      Bolivia|    Venezuela|             1|             3|  Copa América|Belo Horizonte|        Brazil|       TRUE|\n",
      "|2019-06-22|         Peru|       Brazil|             0|             5|  Copa América|     São Paulo|        Brazil|       TRUE|\n",
      "|2019-06-21|      Ecuador|        Chile|             1|             2|  Copa América|      Salvador|        Brazil|       TRUE|\n",
      "|2019-06-20|      Uruguay|        Japan|             2|             2|  Copa América|  Porto Alegre|        Brazil|       TRUE|\n",
      "|2019-06-19|    Argentina|     Paraguay|             1|             1|  Copa América|Belo Horizonte|        Brazil|       TRUE|\n",
      "|2019-06-19|     Colombia|        Qatar|             1|             0|  Copa América|     São Paulo|        Brazil|       TRUE|\n",
      "|2019-06-18|      Bolivia|         Peru|             1|             3|  Copa América|Rio de Janeiro|        Brazil|       TRUE|\n",
      "|2019-06-18|       Brazil|    Venezuela|             0|             0|  Copa América|      Salvador|        Brazil|      FALSE|\n",
      "+----------+-------------+-------------+--------------+--------------+--------------+--------------+--------------+-----------+\n",
      "only showing top 20 rows\n",
      "\n"
     ]
    }
   ],
   "source": [
    "spark.sql('select * from tab where countryCountry = \"Brazil\" order by dt desc').show()"
   ]
  },
  {
   "cell_type": "code",
   "execution_count": 17,
   "id": "ac19947c-2047-49c6-aafa-1e7fac748894",
   "metadata": {},
   "outputs": [
    {
     "name": "stdout",
     "output_type": "stream",
     "text": [
      "+----------+-------------+-------------+--------------+--------------+--------------+--------------+--------------+-----------+\n",
      "|        dt|home_teamName|away_teamName|home_scoreHome|away_scoreAway|tournamentName|      cityCity|countryCountry|neutralTRUE|\n",
      "+----------+-------------+-------------+--------------+--------------+--------------+--------------+--------------+-----------+\n",
      "|2019-07-07|       Brazil|         Peru|             3|             1|  Copa América|Rio de Janeiro|        Brazil|      FALSE|\n",
      "|2019-07-06|    Argentina|        Chile|             2|             1|  Copa América|     São Paulo|        Brazil|       TRUE|\n",
      "|2019-07-03|        Chile|         Peru|             0|             3|  Copa América|  Porto Alegre|        Brazil|       TRUE|\n",
      "|2019-07-02|       Brazil|    Argentina|             2|             0|  Copa América|Belo Horizonte|        Brazil|      FALSE|\n",
      "|2019-06-29|      Uruguay|         Peru|             0|             0|  Copa América|      Salvador|        Brazil|       TRUE|\n",
      "|2019-06-28|    Venezuela|    Argentina|             0|             2|  Copa América|Rio de Janeiro|        Brazil|       TRUE|\n",
      "|2019-06-28|     Colombia|        Chile|             0|             0|  Copa América|     São Paulo|        Brazil|       TRUE|\n",
      "|2019-06-27|       Brazil|     Paraguay|             0|             0|  Copa América|  Porto Alegre|        Brazil|      FALSE|\n",
      "|2019-06-24|        Chile|      Uruguay|             0|             1|  Copa América|Rio de Janeiro|        Brazil|       TRUE|\n",
      "|2019-06-24|      Ecuador|        Japan|             1|             1|  Copa América|Belo Horizonte|        Brazil|       TRUE|\n",
      "|2019-06-23|        Qatar|    Argentina|             0|             2|  Copa América|  Porto Alegre|        Brazil|       TRUE|\n",
      "|2019-06-23|     Colombia|     Paraguay|             1|             0|  Copa América|      Salvador|        Brazil|       TRUE|\n",
      "|2019-06-22|      Bolivia|    Venezuela|             1|             3|  Copa América|Belo Horizonte|        Brazil|       TRUE|\n",
      "|2019-06-22|         Peru|       Brazil|             0|             5|  Copa América|     São Paulo|        Brazil|       TRUE|\n",
      "|2019-06-21|      Ecuador|        Chile|             1|             2|  Copa América|      Salvador|        Brazil|       TRUE|\n",
      "|2019-06-20|      Uruguay|        Japan|             2|             2|  Copa América|  Porto Alegre|        Brazil|       TRUE|\n",
      "|2019-06-19|    Argentina|     Paraguay|             1|             1|  Copa América|Belo Horizonte|        Brazil|       TRUE|\n",
      "|2019-06-19|     Colombia|        Qatar|             1|             0|  Copa América|     São Paulo|        Brazil|       TRUE|\n",
      "|2019-06-18|      Bolivia|         Peru|             1|             3|  Copa América|Rio de Janeiro|        Brazil|       TRUE|\n",
      "|2019-06-18|       Brazil|    Venezuela|             0|             0|  Copa América|      Salvador|        Brazil|      FALSE|\n",
      "+----------+-------------+-------------+--------------+--------------+--------------+--------------+--------------+-----------+\n",
      "only showing top 20 rows\n",
      "\n"
     ]
    }
   ],
   "source": [
    "df.where(df.countryCountry == 'Brazil').orderBy('dt', ascending = False).show()"
   ]
  },
  {
   "cell_type": "code",
   "execution_count": 2,
   "id": "96617263-d571-4256-946a-346e1a0f7dee",
   "metadata": {},
   "outputs": [],
   "source": [
    "import requests\n",
    "import json"
   ]
  },
  {
   "cell_type": "code",
   "execution_count": 3,
   "id": "b4603e94-7bf1-43f9-84dd-dc948c6f8f43",
   "metadata": {},
   "outputs": [],
   "source": [
    "r = requests.get('https://www.boredapi.com/api/activity/')"
   ]
  },
  {
   "cell_type": "code",
   "execution_count": 4,
   "id": "8ad941dd-43f9-4810-90a4-c2fbdd6ff1f7",
   "metadata": {},
   "outputs": [
    {
     "data": {
      "text/plain": [
       "<Response [200]>"
      ]
     },
     "execution_count": 4,
     "metadata": {},
     "output_type": "execute_result"
    }
   ],
   "source": [
    "r"
   ]
  },
  {
   "cell_type": "code",
   "execution_count": 5,
   "id": "9cc63074-8d52-45fe-a673-16db17cccf45",
   "metadata": {},
   "outputs": [],
   "source": [
    "rr = json.dumps(r.json())"
   ]
  },
  {
   "cell_type": "code",
   "execution_count": 6,
   "id": "4d2d402f-84ce-4874-aee1-15eedef3e652",
   "metadata": {},
   "outputs": [
    {
     "data": {
      "text/plain": [
       "'{\"activity\": \"Go to a concert with some friends\", \"type\": \"social\", \"participants\": 4, \"price\": 0.6, \"link\": \"\", \"key\": \"4558850\", \"accessibility\": 0.4}'"
      ]
     },
     "execution_count": 6,
     "metadata": {},
     "output_type": "execute_result"
    }
   ],
   "source": [
    "rr"
   ]
  },
  {
   "cell_type": "code",
   "execution_count": 7,
   "id": "d00f15ef-fc85-4c1d-912c-505d2ac708ad",
   "metadata": {},
   "outputs": [],
   "source": [
    "df_json = spark.sparkContext.parallelize(rr)"
   ]
  },
  {
   "cell_type": "code",
   "execution_count": 10,
   "id": "9be62a77-e3d6-48bb-9942-08531e1314b1",
   "metadata": {},
   "outputs": [
    {
     "data": {
      "text/plain": [
       "['{',\n",
       " '\"',\n",
       " 'a',\n",
       " 'c',\n",
       " 't',\n",
       " 'i',\n",
       " 'v',\n",
       " 'i',\n",
       " 't',\n",
       " 'y',\n",
       " '\"',\n",
       " ':',\n",
       " ' ',\n",
       " '\"',\n",
       " 'G',\n",
       " 'o',\n",
       " ' ',\n",
       " 't',\n",
       " 'o',\n",
       " ' ',\n",
       " 'a',\n",
       " ' ',\n",
       " 'c',\n",
       " 'o',\n",
       " 'n',\n",
       " 'c',\n",
       " 'e',\n",
       " 'r',\n",
       " 't',\n",
       " ' ',\n",
       " 'w',\n",
       " 'i',\n",
       " 't',\n",
       " 'h',\n",
       " ' ',\n",
       " 's',\n",
       " 'o',\n",
       " 'm',\n",
       " 'e',\n",
       " ' ',\n",
       " 'f',\n",
       " 'r',\n",
       " 'i',\n",
       " 'e',\n",
       " 'n',\n",
       " 'd',\n",
       " 's',\n",
       " '\"',\n",
       " ',',\n",
       " ' ',\n",
       " '\"',\n",
       " 't',\n",
       " 'y',\n",
       " 'p',\n",
       " 'e',\n",
       " '\"',\n",
       " ':',\n",
       " ' ',\n",
       " '\"',\n",
       " 's',\n",
       " 'o',\n",
       " 'c',\n",
       " 'i',\n",
       " 'a',\n",
       " 'l',\n",
       " '\"',\n",
       " ',',\n",
       " ' ',\n",
       " '\"',\n",
       " 'p',\n",
       " 'a',\n",
       " 'r',\n",
       " 't',\n",
       " 'i',\n",
       " 'c',\n",
       " 'i',\n",
       " 'p',\n",
       " 'a',\n",
       " 'n',\n",
       " 't',\n",
       " 's',\n",
       " '\"',\n",
       " ':',\n",
       " ' ',\n",
       " '4',\n",
       " ',',\n",
       " ' ',\n",
       " '\"',\n",
       " 'p',\n",
       " 'r',\n",
       " 'i',\n",
       " 'c',\n",
       " 'e',\n",
       " '\"',\n",
       " ':',\n",
       " ' ',\n",
       " '0',\n",
       " '.',\n",
       " '6',\n",
       " ',',\n",
       " ' ',\n",
       " '\"',\n",
       " 'l',\n",
       " 'i',\n",
       " 'n',\n",
       " 'k',\n",
       " '\"',\n",
       " ':',\n",
       " ' ',\n",
       " '\"',\n",
       " '\"',\n",
       " ',',\n",
       " ' ',\n",
       " '\"',\n",
       " 'k',\n",
       " 'e',\n",
       " 'y',\n",
       " '\"',\n",
       " ':',\n",
       " ' ',\n",
       " '\"',\n",
       " '4',\n",
       " '5',\n",
       " '5',\n",
       " '8',\n",
       " '8',\n",
       " '5',\n",
       " '0',\n",
       " '\"',\n",
       " ',',\n",
       " ' ',\n",
       " '\"',\n",
       " 'a',\n",
       " 'c',\n",
       " 'c',\n",
       " 'e',\n",
       " 's',\n",
       " 's',\n",
       " 'i',\n",
       " 'b',\n",
       " 'i',\n",
       " 'l',\n",
       " 'i',\n",
       " 't',\n",
       " 'y',\n",
       " '\"',\n",
       " ':',\n",
       " ' ',\n",
       " '0',\n",
       " '.',\n",
       " '4',\n",
       " '}']"
      ]
     },
     "execution_count": 10,
     "metadata": {},
     "output_type": "execute_result"
    }
   ],
   "source": [
    "df_json.collect()"
   ]
  },
  {
   "cell_type": "code",
   "execution_count": 11,
   "id": "33fae653-2935-41dc-96a4-9c17a66d7a59",
   "metadata": {},
   "outputs": [],
   "source": [
    "import pandas "
   ]
  },
  {
   "cell_type": "code",
   "execution_count": 51,
   "id": "bf4e1087-0561-485e-af5e-bb052351addb",
   "metadata": {},
   "outputs": [
    {
     "ename": "ConnectionRefusedError",
     "evalue": "[Errno 111] Connection refused",
     "output_type": "error",
     "traceback": [
      "\u001b[0;31m---------------------------------------------------------------------------\u001b[0m",
      "\u001b[0;31mConnectionRefusedError\u001b[0m                    Traceback (most recent call last)",
      "Cell \u001b[0;32mIn[51], line 1\u001b[0m\n\u001b[0;32m----> 1\u001b[0m \u001b[43mdf\u001b[49m\u001b[38;5;241;43m.\u001b[39;49m\u001b[43mshow\u001b[49m\u001b[43m(\u001b[49m\u001b[43m)\u001b[49m\n",
      "File \u001b[0;32m/usr/local/spark/python/pyspark/sql/dataframe.py:606\u001b[0m, in \u001b[0;36mDataFrame.show\u001b[0;34m(self, n, truncate, vertical)\u001b[0m\n\u001b[1;32m    603\u001b[0m     \u001b[38;5;28;01mraise\u001b[39;00m \u001b[38;5;167;01mTypeError\u001b[39;00m(\u001b[38;5;124m\"\u001b[39m\u001b[38;5;124mParameter \u001b[39m\u001b[38;5;124m'\u001b[39m\u001b[38;5;124mvertical\u001b[39m\u001b[38;5;124m'\u001b[39m\u001b[38;5;124m must be a bool\u001b[39m\u001b[38;5;124m\"\u001b[39m)\n\u001b[1;32m    605\u001b[0m \u001b[38;5;28;01mif\u001b[39;00m \u001b[38;5;28misinstance\u001b[39m(truncate, \u001b[38;5;28mbool\u001b[39m) \u001b[38;5;129;01mand\u001b[39;00m truncate:\n\u001b[0;32m--> 606\u001b[0m     \u001b[38;5;28mprint\u001b[39m(\u001b[38;5;28;43mself\u001b[39;49m\u001b[38;5;241;43m.\u001b[39;49m\u001b[43m_jdf\u001b[49m\u001b[38;5;241;43m.\u001b[39;49m\u001b[43mshowString\u001b[49m\u001b[43m(\u001b[49m\u001b[43mn\u001b[49m\u001b[43m,\u001b[49m\u001b[43m \u001b[49m\u001b[38;5;241;43m20\u001b[39;49m\u001b[43m,\u001b[49m\u001b[43m \u001b[49m\u001b[43mvertical\u001b[49m\u001b[43m)\u001b[49m)\n\u001b[1;32m    607\u001b[0m \u001b[38;5;28;01melse\u001b[39;00m:\n\u001b[1;32m    608\u001b[0m     \u001b[38;5;28;01mtry\u001b[39;00m:\n",
      "File \u001b[0;32m/usr/local/spark/python/lib/py4j-0.10.9.5-src.zip/py4j/java_gateway.py:1320\u001b[0m, in \u001b[0;36mJavaMember.__call__\u001b[0;34m(self, *args)\u001b[0m\n\u001b[1;32m   1313\u001b[0m args_command, temp_args \u001b[38;5;241m=\u001b[39m \u001b[38;5;28mself\u001b[39m\u001b[38;5;241m.\u001b[39m_build_args(\u001b[38;5;241m*\u001b[39margs)\n\u001b[1;32m   1315\u001b[0m command \u001b[38;5;241m=\u001b[39m proto\u001b[38;5;241m.\u001b[39mCALL_COMMAND_NAME \u001b[38;5;241m+\u001b[39m\\\n\u001b[1;32m   1316\u001b[0m     \u001b[38;5;28mself\u001b[39m\u001b[38;5;241m.\u001b[39mcommand_header \u001b[38;5;241m+\u001b[39m\\\n\u001b[1;32m   1317\u001b[0m     args_command \u001b[38;5;241m+\u001b[39m\\\n\u001b[1;32m   1318\u001b[0m     proto\u001b[38;5;241m.\u001b[39mEND_COMMAND_PART\n\u001b[0;32m-> 1320\u001b[0m answer \u001b[38;5;241m=\u001b[39m \u001b[38;5;28;43mself\u001b[39;49m\u001b[38;5;241;43m.\u001b[39;49m\u001b[43mgateway_client\u001b[49m\u001b[38;5;241;43m.\u001b[39;49m\u001b[43msend_command\u001b[49m\u001b[43m(\u001b[49m\u001b[43mcommand\u001b[49m\u001b[43m)\u001b[49m\n\u001b[1;32m   1321\u001b[0m return_value \u001b[38;5;241m=\u001b[39m get_return_value(\n\u001b[1;32m   1322\u001b[0m     answer, \u001b[38;5;28mself\u001b[39m\u001b[38;5;241m.\u001b[39mgateway_client, \u001b[38;5;28mself\u001b[39m\u001b[38;5;241m.\u001b[39mtarget_id, \u001b[38;5;28mself\u001b[39m\u001b[38;5;241m.\u001b[39mname)\n\u001b[1;32m   1324\u001b[0m \u001b[38;5;28;01mfor\u001b[39;00m temp_arg \u001b[38;5;129;01min\u001b[39;00m temp_args:\n",
      "File \u001b[0;32m/usr/local/spark/python/lib/py4j-0.10.9.5-src.zip/py4j/java_gateway.py:1036\u001b[0m, in \u001b[0;36mGatewayClient.send_command\u001b[0;34m(self, command, retry, binary)\u001b[0m\n\u001b[1;32m   1015\u001b[0m \u001b[38;5;28;01mdef\u001b[39;00m \u001b[38;5;21msend_command\u001b[39m(\u001b[38;5;28mself\u001b[39m, command, retry\u001b[38;5;241m=\u001b[39m\u001b[38;5;28;01mTrue\u001b[39;00m, binary\u001b[38;5;241m=\u001b[39m\u001b[38;5;28;01mFalse\u001b[39;00m):\n\u001b[1;32m   1016\u001b[0m \u001b[38;5;250m    \u001b[39m\u001b[38;5;124;03m\"\"\"Sends a command to the JVM. This method is not intended to be\u001b[39;00m\n\u001b[1;32m   1017\u001b[0m \u001b[38;5;124;03m       called directly by Py4J users. It is usually called by\u001b[39;00m\n\u001b[1;32m   1018\u001b[0m \u001b[38;5;124;03m       :class:`JavaMember` instances.\u001b[39;00m\n\u001b[0;32m   (...)\u001b[0m\n\u001b[1;32m   1034\u001b[0m \u001b[38;5;124;03m     if `binary` is `True`.\u001b[39;00m\n\u001b[1;32m   1035\u001b[0m \u001b[38;5;124;03m    \"\"\"\u001b[39;00m\n\u001b[0;32m-> 1036\u001b[0m     connection \u001b[38;5;241m=\u001b[39m \u001b[38;5;28;43mself\u001b[39;49m\u001b[38;5;241;43m.\u001b[39;49m\u001b[43m_get_connection\u001b[49m\u001b[43m(\u001b[49m\u001b[43m)\u001b[49m\n\u001b[1;32m   1037\u001b[0m     \u001b[38;5;28;01mtry\u001b[39;00m:\n\u001b[1;32m   1038\u001b[0m         response \u001b[38;5;241m=\u001b[39m connection\u001b[38;5;241m.\u001b[39msend_command(command)\n",
      "File \u001b[0;32m/usr/local/spark/python/lib/py4j-0.10.9.5-src.zip/py4j/clientserver.py:284\u001b[0m, in \u001b[0;36mJavaClient._get_connection\u001b[0;34m(self)\u001b[0m\n\u001b[1;32m    281\u001b[0m     \u001b[38;5;28;01mpass\u001b[39;00m\n\u001b[1;32m    283\u001b[0m \u001b[38;5;28;01mif\u001b[39;00m connection \u001b[38;5;129;01mis\u001b[39;00m \u001b[38;5;28;01mNone\u001b[39;00m \u001b[38;5;129;01mor\u001b[39;00m connection\u001b[38;5;241m.\u001b[39msocket \u001b[38;5;129;01mis\u001b[39;00m \u001b[38;5;28;01mNone\u001b[39;00m:\n\u001b[0;32m--> 284\u001b[0m     connection \u001b[38;5;241m=\u001b[39m \u001b[38;5;28;43mself\u001b[39;49m\u001b[38;5;241;43m.\u001b[39;49m\u001b[43m_create_new_connection\u001b[49m\u001b[43m(\u001b[49m\u001b[43m)\u001b[49m\n\u001b[1;32m    285\u001b[0m \u001b[38;5;28;01mreturn\u001b[39;00m connection\n",
      "File \u001b[0;32m/usr/local/spark/python/lib/py4j-0.10.9.5-src.zip/py4j/clientserver.py:291\u001b[0m, in \u001b[0;36mJavaClient._create_new_connection\u001b[0;34m(self)\u001b[0m\n\u001b[1;32m    287\u001b[0m \u001b[38;5;28;01mdef\u001b[39;00m \u001b[38;5;21m_create_new_connection\u001b[39m(\u001b[38;5;28mself\u001b[39m):\n\u001b[1;32m    288\u001b[0m     connection \u001b[38;5;241m=\u001b[39m ClientServerConnection(\n\u001b[1;32m    289\u001b[0m         \u001b[38;5;28mself\u001b[39m\u001b[38;5;241m.\u001b[39mjava_parameters, \u001b[38;5;28mself\u001b[39m\u001b[38;5;241m.\u001b[39mpython_parameters,\n\u001b[1;32m    290\u001b[0m         \u001b[38;5;28mself\u001b[39m\u001b[38;5;241m.\u001b[39mgateway_property, \u001b[38;5;28mself\u001b[39m)\n\u001b[0;32m--> 291\u001b[0m     \u001b[43mconnection\u001b[49m\u001b[38;5;241;43m.\u001b[39;49m\u001b[43mconnect_to_java_server\u001b[49m\u001b[43m(\u001b[49m\u001b[43m)\u001b[49m\n\u001b[1;32m    292\u001b[0m     \u001b[38;5;28mself\u001b[39m\u001b[38;5;241m.\u001b[39mset_thread_connection(connection)\n\u001b[1;32m    293\u001b[0m     \u001b[38;5;28;01mreturn\u001b[39;00m connection\n",
      "File \u001b[0;32m/usr/local/spark/python/lib/py4j-0.10.9.5-src.zip/py4j/clientserver.py:438\u001b[0m, in \u001b[0;36mClientServerConnection.connect_to_java_server\u001b[0;34m(self)\u001b[0m\n\u001b[1;32m    435\u001b[0m \u001b[38;5;28;01mif\u001b[39;00m \u001b[38;5;28mself\u001b[39m\u001b[38;5;241m.\u001b[39mssl_context:\n\u001b[1;32m    436\u001b[0m     \u001b[38;5;28mself\u001b[39m\u001b[38;5;241m.\u001b[39msocket \u001b[38;5;241m=\u001b[39m \u001b[38;5;28mself\u001b[39m\u001b[38;5;241m.\u001b[39mssl_context\u001b[38;5;241m.\u001b[39mwrap_socket(\n\u001b[1;32m    437\u001b[0m         \u001b[38;5;28mself\u001b[39m\u001b[38;5;241m.\u001b[39msocket, server_hostname\u001b[38;5;241m=\u001b[39m\u001b[38;5;28mself\u001b[39m\u001b[38;5;241m.\u001b[39mjava_address)\n\u001b[0;32m--> 438\u001b[0m \u001b[38;5;28;43mself\u001b[39;49m\u001b[38;5;241;43m.\u001b[39;49m\u001b[43msocket\u001b[49m\u001b[38;5;241;43m.\u001b[39;49m\u001b[43mconnect\u001b[49m\u001b[43m(\u001b[49m\u001b[43m(\u001b[49m\u001b[38;5;28;43mself\u001b[39;49m\u001b[38;5;241;43m.\u001b[39;49m\u001b[43mjava_address\u001b[49m\u001b[43m,\u001b[49m\u001b[43m \u001b[49m\u001b[38;5;28;43mself\u001b[39;49m\u001b[38;5;241;43m.\u001b[39;49m\u001b[43mjava_port\u001b[49m\u001b[43m)\u001b[49m\u001b[43m)\u001b[49m\n\u001b[1;32m    439\u001b[0m \u001b[38;5;28mself\u001b[39m\u001b[38;5;241m.\u001b[39mstream \u001b[38;5;241m=\u001b[39m \u001b[38;5;28mself\u001b[39m\u001b[38;5;241m.\u001b[39msocket\u001b[38;5;241m.\u001b[39mmakefile(\u001b[38;5;124m\"\u001b[39m\u001b[38;5;124mrb\u001b[39m\u001b[38;5;124m\"\u001b[39m)\n\u001b[1;32m    440\u001b[0m \u001b[38;5;28mself\u001b[39m\u001b[38;5;241m.\u001b[39mis_connected \u001b[38;5;241m=\u001b[39m \u001b[38;5;28;01mTrue\u001b[39;00m\n",
      "\u001b[0;31mConnectionRefusedError\u001b[0m: [Errno 111] Connection refused"
     ]
    }
   ],
   "source": []
  },
  {
   "cell_type": "code",
   "execution_count": null,
   "id": "4955af80-07a3-454c-951a-e47882a9d77c",
   "metadata": {},
   "outputs": [],
   "source": []
  }
 ],
 "metadata": {
  "kernelspec": {
   "display_name": "Python 3 (ipykernel)",
   "language": "python",
   "name": "python3"
  },
  "language_info": {
   "codemirror_mode": {
    "name": "ipython",
    "version": 3
   },
   "file_extension": ".py",
   "mimetype": "text/x-python",
   "name": "python",
   "nbconvert_exporter": "python",
   "pygments_lexer": "ipython3",
   "version": "3.10.8"
  }
 },
 "nbformat": 4,
 "nbformat_minor": 5
}
