{
 "cells": [
  {
   "cell_type": "code",
   "execution_count": 1,
   "id": "382b89b5-d79e-4f0a-88ec-9eacaf7febee",
   "metadata": {},
   "outputs": [
    {
     "ename": "TypeError",
     "evalue": "expected list of topic unicode strings",
     "output_type": "error",
     "traceback": [
      "\u001b[0;31m---------------------------------------------------------------------------\u001b[0m",
      "\u001b[0;31mTypeError\u001b[0m                                 Traceback (most recent call last)",
      "Cell \u001b[0;32mIn[1], line 13\u001b[0m\n\u001b[1;32m      4\u001b[0m consumer_config \u001b[38;5;241m=\u001b[39m {\n\u001b[1;32m      5\u001b[0m     \u001b[38;5;124m'\u001b[39m\u001b[38;5;124mbootstrap.servers\u001b[39m\u001b[38;5;124m'\u001b[39m: \u001b[38;5;124m\"\u001b[39m\u001b[38;5;124mkafka-broker:9092\u001b[39m\u001b[38;5;124m\"\u001b[39m,\n\u001b[1;32m      6\u001b[0m     \u001b[38;5;124m'\u001b[39m\u001b[38;5;124mgroup.id\u001b[39m\u001b[38;5;124m'\u001b[39m: \u001b[38;5;124m\"\u001b[39m\u001b[38;5;124mpython\u001b[39m\u001b[38;5;124m\"\u001b[39m,\n\u001b[0;32m   (...)\u001b[0m\n\u001b[1;32m      9\u001b[0m     \u001b[38;5;124m'\u001b[39m\u001b[38;5;124mmax.poll.interval.ms\u001b[39m\u001b[38;5;124m'\u001b[39m: \u001b[38;5;124m'\u001b[39m\u001b[38;5;124m86400000\u001b[39m\u001b[38;5;124m'\u001b[39m\n\u001b[1;32m     10\u001b[0m }\n\u001b[1;32m     12\u001b[0m consumer \u001b[38;5;241m=\u001b[39m Consumer(consumer_config)\n\u001b[0;32m---> 13\u001b[0m \u001b[43mconsumer\u001b[49m\u001b[38;5;241;43m.\u001b[39;49m\u001b[43msubscribe\u001b[49m\u001b[43m(\u001b[49m\u001b[38;5;124;43m'\u001b[39;49m\u001b[38;5;124;43mteste2\u001b[39;49m\u001b[38;5;124;43m'\u001b[39;49m\u001b[43m)\u001b[49m    \n",
      "\u001b[0;31mTypeError\u001b[0m: expected list of topic unicode strings"
     ]
    }
   ],
   "source": [
    "from confluent_kafka import Consumer\n",
    "from time import sleep\n",
    "\n",
    "consumer_config = {\n",
    "    'bootstrap.servers': \"kafka-broker:9092\",\n",
    "    'group.id': \"python\",\n",
    "    'auto.offset.reset': 'earliest',\n",
    "    'enable.auto.commit': 'false',\n",
    "    'max.poll.interval.ms': '86400000'\n",
    "}\n",
    "\n",
    "consumer = Consumer(consumer_config)\n",
    "consumer.subscribe('teste2')    "
   ]
  },
  {
   "cell_type": "code",
   "execution_count": null,
   "id": "b6ee33a2-3540-4186-b983-d6018ea208d8",
   "metadata": {},
   "outputs": [],
   "source": [
    " while True:\n",
    "        msg = consumer.poll(0)\n",
    "        print(msg.offset())\n",
    "        print(msg.topic())\n",
    "        print(msg.value())\n",
    "        consumer.commit()"
   ]
  }
 ],
 "metadata": {
  "kernelspec": {
   "display_name": "Python 3 (ipykernel)",
   "language": "python",
   "name": "python3"
  },
  "language_info": {
   "codemirror_mode": {
    "name": "ipython",
    "version": 3
   },
   "file_extension": ".py",
   "mimetype": "text/x-python",
   "name": "python",
   "nbconvert_exporter": "python",
   "pygments_lexer": "ipython3",
   "version": "3.10.8"
  }
 },
 "nbformat": 4,
 "nbformat_minor": 5
}
