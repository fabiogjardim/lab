{
 "cells": [
  {
   "cell_type": "code",
   "execution_count": 2,
   "id": "b992888f-2ded-497b-a7b8-1fee2606d03f",
   "metadata": {},
   "outputs": [],
   "source": [
    "d = (123,'teste',(1,2))"
   ]
  },
  {
   "cell_type": "code",
   "execution_count": 3,
   "id": "7807422c-2cb5-4c4f-a48b-5d336bdc7072",
   "metadata": {},
   "outputs": [
    {
     "ename": "AttributeError",
     "evalue": "'tuple' object has no attribute 'append'",
     "output_type": "error",
     "traceback": [
      "\u001b[0;31m---------------------------------------------------------------------------\u001b[0m",
      "\u001b[0;31mAttributeError\u001b[0m                            Traceback (most recent call last)",
      "Cell \u001b[0;32mIn[3], line 1\u001b[0m\n\u001b[0;32m----> 1\u001b[0m \u001b[43md\u001b[49m\u001b[43m[\u001b[49m\u001b[38;5;241;43m-\u001b[39;49m\u001b[38;5;241;43m1\u001b[39;49m\u001b[43m]\u001b[49m\u001b[38;5;241;43m.\u001b[39;49m\u001b[43mappend\u001b[49m(\u001b[38;5;124m'\u001b[39m\u001b[38;5;124mteste\u001b[39m\u001b[38;5;124m'\u001b[39m)\n",
      "\u001b[0;31mAttributeError\u001b[0m: 'tuple' object has no attribute 'append'"
     ]
    }
   ],
   "source": [
    "d[-1].append('teste')"
   ]
  },
  {
   "cell_type": "code",
   "execution_count": 5,
   "id": "9da9c51a-9114-4ee4-916a-7b2b5ae64fce",
   "metadata": {},
   "outputs": [],
   "source": [
    "f=[1,2,3]\n"
   ]
  },
  {
   "cell_type": "code",
   "execution_count": 9,
   "id": "2f741536-75b4-4f4c-8f1f-3dcdee0eddc5",
   "metadata": {},
   "outputs": [
    {
     "data": {
      "text/plain": [
       "[1, 4, 9]"
      ]
     },
     "execution_count": 9,
     "metadata": {},
     "output_type": "execute_result"
    }
   ],
   "source": [
    "list(map(lambda x:x**2,f))"
   ]
  },
  {
   "cell_type": "code",
   "execution_count": null,
   "id": "d5ce738e-f642-47b2-a071-4bfb36eea658",
   "metadata": {},
   "outputs": [],
   "source": []
  }
 ],
 "metadata": {
  "kernelspec": {
   "display_name": "Python 3 (ipykernel)",
   "language": "python",
   "name": "python3"
  },
  "language_info": {
   "codemirror_mode": {
    "name": "ipython",
    "version": 3
   },
   "file_extension": ".py",
   "mimetype": "text/x-python",
   "name": "python",
   "nbconvert_exporter": "python",
   "pygments_lexer": "ipython3",
   "version": "3.10.8"
  }
 },
 "nbformat": 4,
 "nbformat_minor": 5
}
