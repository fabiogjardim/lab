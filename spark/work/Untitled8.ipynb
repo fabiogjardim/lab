{
 "cells": [
  {
   "cell_type": "code",
   "execution_count": 1,
   "id": "8ec12813-67d7-476f-a19a-14f08c419cd2",
   "metadata": {},
   "outputs": [],
   "source": [
    "import pyspark\n",
    "from delta import *\n",
    "from delta.tables import *\n",
    "from pyspark.sql.functions import *\n",
    "\n",
    "builder = pyspark.sql.SparkSession.builder.appName(\"pos\").master(\"spark://spark-master:7077\") \\\n",
    "    .config(\"spark.sql.extensions\", \"io.delta.sql.DeltaSparkSessionExtension\") \\\n",
    "    .config(\"spark.sql.catalog.spark_catalog\", \"org.apache.spark.sql.delta.catalog.DeltaCatalog\") \\\n",
    "    .config(\"spark.sql.extensions\",\"io.delta.sql.DeltaSparkSessionExtension\") \\\n",
    "    .config(\"spark.sql.catalog.spark_catalog\",\"org.apache.spark.sql.delta.catalog.DeltaCatalog\") \\\n",
    "    .config(\"spark.hadoop.fs.s3a.access.key\",\"datalake\") \\\n",
    "    .config(\"spark.hadoop.fs.s3a.secret.key\",\"datalake\") \\\n",
    "    .config(\"spark.hadoop.fs.s3a.endpoint\",\"http://minio:9000\") \\\n",
    "    .config(\"spark.hadoop.fs.s3a.path.style.access\", \"true\") \\\n",
    "    .config(\"spark.hadoop.fs.s3a.impl\", \"org.apache.hadoop.fs.s3a.S3AFileSystem\")\n",
    "\n",
    "spark = configure_spark_with_delta_pip(builder).enableHiveSupport().getOrCreate()"
   ]
  },
  {
   "cell_type": "code",
   "execution_count": 2,
   "id": "732ebb80-55d3-42fb-944a-af6c570a1e54",
   "metadata": {},
   "outputs": [
    {
     "data": {
      "text/html": [
       "\n",
       "            <div>\n",
       "                <p><b>SparkSession - hive</b></p>\n",
       "                \n",
       "        <div>\n",
       "            <p><b>SparkContext</b></p>\n",
       "\n",
       "            <p><a href=\"http://spark-master:4040\">Spark UI</a></p>\n",
       "\n",
       "            <dl>\n",
       "              <dt>Version</dt>\n",
       "                <dd><code>v3.3.1</code></dd>\n",
       "              <dt>Master</dt>\n",
       "                <dd><code>spark://spark-master:7077</code></dd>\n",
       "              <dt>AppName</dt>\n",
       "                <dd><code>pos</code></dd>\n",
       "            </dl>\n",
       "        </div>\n",
       "        \n",
       "            </div>\n",
       "        "
      ],
      "text/plain": [
       "<pyspark.sql.session.SparkSession at 0x7f0b775f5e40>"
      ]
     },
     "execution_count": 2,
     "metadata": {},
     "output_type": "execute_result"
    }
   ],
   "source": [
    "spark"
   ]
  },
  {
   "cell_type": "code",
   "execution_count": 3,
   "id": "f5959c17-d77c-4062-9d90-622062d1fd47",
   "metadata": {},
   "outputs": [
    {
     "data": {
      "text/plain": [
       "pyspark.sql.session.SparkSession"
      ]
     },
     "execution_count": 3,
     "metadata": {},
     "output_type": "execute_result"
    }
   ],
   "source": [
    "type(spark)"
   ]
  },
  {
   "cell_type": "code",
   "execution_count": 8,
   "id": "81150bfc-9330-4829-bf81-9fcb68f71fdf",
   "metadata": {},
   "outputs": [],
   "source": [
    "df_alunos = spark.read.csv('s3a://camada-bronze/pos/ALUNOS.csv',header=True)"
   ]
  },
  {
   "cell_type": "code",
   "execution_count": 9,
   "id": "1099516c-4259-48dc-b17a-a67cfbc91c0d",
   "metadata": {},
   "outputs": [],
   "source": [
    "df_notas = spark.read.csv('s3a://camada-bronze/pos/NOTAS.csv',header=True)"
   ]
  },
  {
   "cell_type": "code",
   "execution_count": 17,
   "id": "233c7825-eea8-4c63-83cb-d7bad085e122",
   "metadata": {},
   "outputs": [],
   "source": [
    "df_alunos_notas = df_alunos.join(df_notas,df_alunos.id == df_notas.id)"
   ]
  },
  {
   "cell_type": "code",
   "execution_count": 19,
   "id": "f8979101-2cbc-4239-8200-06b29c948f55",
   "metadata": {},
   "outputs": [],
   "source": [
    "df_aprovados = df_alunos_notas.where(df_alunos_notas.nota > 7)"
   ]
  },
  {
   "cell_type": "code",
   "execution_count": 21,
   "id": "5eab065e-0be9-41a2-909b-2dfe773aa815",
   "metadata": {},
   "outputs": [
    {
     "name": "stdout",
     "output_type": "stream",
     "text": [
      "+---+------+---+----+\n",
      "| id|  nome| id|nota|\n",
      "+---+------+---+----+\n",
      "|  3|  DARA|  3|   8|\n",
      "|  4|DEIVIS|  4|  10|\n",
      "+---+------+---+----+\n",
      "\n"
     ]
    }
   ],
   "source": [
    "df_aprovados.show()"
   ]
  },
  {
   "cell_type": "code",
   "execution_count": 24,
   "id": "c7fa62bb-bad6-4e47-b688-90b37fd0e721",
   "metadata": {},
   "outputs": [],
   "source": [
    "df_aprovados.select('nome','nota').write.csv('s3a://camada-ouro/pos/aprovados',mode='overwrite')"
   ]
  },
  {
   "cell_type": "code",
   "execution_count": 29,
   "id": "bd1d4d54-448c-48dc-a7cc-4f9b36efc9a4",
   "metadata": {},
   "outputs": [],
   "source": [
    "df_results = spark.read.csv('s3a://camada-bronze/futebol/',header=False)"
   ]
  },
  {
   "cell_type": "code",
   "execution_count": 30,
   "id": "4b910984-33fd-4b55-9aca-e477e6013355",
   "metadata": {},
   "outputs": [
    {
     "name": "stdout",
     "output_type": "stream",
     "text": [
      "+----------+----------------+--------+---+---+--------+---------+-------------------+-----+\n",
      "|       _c0|             _c1|     _c2|_c3|_c4|     _c5|      _c6|                _c7|  _c8|\n",
      "+----------+----------------+--------+---+---+--------+---------+-------------------+-----+\n",
      "|1872-11-30|        Scotland| England|  0|  0|Friendly|  Glasgow|           Scotland|FALSE|\n",
      "|1873-03-08|         England|Scotland|  4|  2|Friendly|   London|            England|FALSE|\n",
      "|1874-03-07|        Scotland| England|  2|  1|Friendly|  Glasgow|           Scotland|FALSE|\n",
      "|1875-03-06|         England|Scotland|  2|  2|Friendly|   London|            England|FALSE|\n",
      "|1876-03-04|        Scotland| England|  3|  0|Friendly|  Glasgow|           Scotland|FALSE|\n",
      "|1876-03-25|        Scotland|   Wales|  4|  0|Friendly|  Glasgow|           Scotland|FALSE|\n",
      "|1877-03-03|         England|Scotland|  1|  3|Friendly|   London|            England|FALSE|\n",
      "|1877-03-05|           Wales|Scotland|  0|  2|Friendly|  Wrexham|              Wales|FALSE|\n",
      "|1878-03-02|        Scotland| England|  7|  2|Friendly|  Glasgow|           Scotland|FALSE|\n",
      "|1878-03-23|        Scotland|   Wales|  9|  0|Friendly|  Glasgow|           Scotland|FALSE|\n",
      "|1879-01-18|         England|   Wales|  2|  1|Friendly|   London|            England|FALSE|\n",
      "|1879-04-05|         England|Scotland|  5|  4|Friendly|   London|            England|FALSE|\n",
      "|1879-04-07|           Wales|Scotland|  0|  3|Friendly|  Wrexham|              Wales|FALSE|\n",
      "|1880-03-13|        Scotland| England|  5|  4|Friendly|  Glasgow|           Scotland|FALSE|\n",
      "|1880-03-15|           Wales| England|  2|  3|Friendly|  Wrexham|              Wales|FALSE|\n",
      "|1880-03-27|        Scotland|   Wales|  5|  1|Friendly|  Glasgow|           Scotland|FALSE|\n",
      "|1881-02-26|         England|   Wales|  0|  1|Friendly|Blackburn|            England|FALSE|\n",
      "|1881-03-12|         England|Scotland|  1|  6|Friendly|   London|            England|FALSE|\n",
      "|1881-03-14|           Wales|Scotland|  1|  5|Friendly|  Wrexham|              Wales|FALSE|\n",
      "|1882-02-18|Northern Ireland| England|  0| 13|Friendly|  Belfast|Republic of Ireland|FALSE|\n",
      "+----------+----------------+--------+---+---+--------+---------+-------------------+-----+\n",
      "only showing top 20 rows\n",
      "\n"
     ]
    }
   ],
   "source": [
    "df_results.show()"
   ]
  },
  {
   "cell_type": "code",
   "execution_count": 31,
   "id": "5bb9065e-222b-41be-aac3-b4217f539c75",
   "metadata": {},
   "outputs": [
    {
     "data": {
      "text/plain": [
       "40839"
      ]
     },
     "execution_count": 31,
     "metadata": {},
     "output_type": "execute_result"
    }
   ],
   "source": [
    "df_results.count()"
   ]
  },
  {
   "cell_type": "code",
   "execution_count": 38,
   "id": "9b6b2496-90fe-46f9-a808-03bb40ee4f83",
   "metadata": {},
   "outputs": [],
   "source": [
    "df_results = df_results \\\n",
    "    .withColumnRenamed('_c0','dt') \\\n",
    "    .withColumnRenamed('_c1','mandante') \\\n",
    "    .withColumnRenamed('_c2','visitante') \\\n",
    "    .withColumnRenamed('_c3','gol_mandante') \\\n",
    "    .withColumnRenamed('_c4','gol_visitante') \\\n",
    "    .withColumnRenamed('_c5','torneio') \\\n",
    "    .withColumnRenamed('_c6','cidade') \\\n",
    "    .withColumnRenamed('_c7','pais') \\\n",
    "    .drop('_c8')"
   ]
  },
  {
   "cell_type": "code",
   "execution_count": 39,
   "id": "dcf58c8d-a597-4420-8bb5-a799f9915bfe",
   "metadata": {},
   "outputs": [
    {
     "name": "stdout",
     "output_type": "stream",
     "text": [
      "+----------+----------------+---------+------------+-------------+--------+---------+-------------------+\n",
      "|        dt|        mandante|visitante|gol_mandante|gol_visitante| torneio|   cidade|               pais|\n",
      "+----------+----------------+---------+------------+-------------+--------+---------+-------------------+\n",
      "|1872-11-30|        Scotland|  England|           0|            0|Friendly|  Glasgow|           Scotland|\n",
      "|1873-03-08|         England| Scotland|           4|            2|Friendly|   London|            England|\n",
      "|1874-03-07|        Scotland|  England|           2|            1|Friendly|  Glasgow|           Scotland|\n",
      "|1875-03-06|         England| Scotland|           2|            2|Friendly|   London|            England|\n",
      "|1876-03-04|        Scotland|  England|           3|            0|Friendly|  Glasgow|           Scotland|\n",
      "|1876-03-25|        Scotland|    Wales|           4|            0|Friendly|  Glasgow|           Scotland|\n",
      "|1877-03-03|         England| Scotland|           1|            3|Friendly|   London|            England|\n",
      "|1877-03-05|           Wales| Scotland|           0|            2|Friendly|  Wrexham|              Wales|\n",
      "|1878-03-02|        Scotland|  England|           7|            2|Friendly|  Glasgow|           Scotland|\n",
      "|1878-03-23|        Scotland|    Wales|           9|            0|Friendly|  Glasgow|           Scotland|\n",
      "|1879-01-18|         England|    Wales|           2|            1|Friendly|   London|            England|\n",
      "|1879-04-05|         England| Scotland|           5|            4|Friendly|   London|            England|\n",
      "|1879-04-07|           Wales| Scotland|           0|            3|Friendly|  Wrexham|              Wales|\n",
      "|1880-03-13|        Scotland|  England|           5|            4|Friendly|  Glasgow|           Scotland|\n",
      "|1880-03-15|           Wales|  England|           2|            3|Friendly|  Wrexham|              Wales|\n",
      "|1880-03-27|        Scotland|    Wales|           5|            1|Friendly|  Glasgow|           Scotland|\n",
      "|1881-02-26|         England|    Wales|           0|            1|Friendly|Blackburn|            England|\n",
      "|1881-03-12|         England| Scotland|           1|            6|Friendly|   London|            England|\n",
      "|1881-03-14|           Wales| Scotland|           1|            5|Friendly|  Wrexham|              Wales|\n",
      "|1882-02-18|Northern Ireland|  England|           0|           13|Friendly|  Belfast|Republic of Ireland|\n",
      "+----------+----------------+---------+------------+-------------+--------+---------+-------------------+\n",
      "only showing top 20 rows\n",
      "\n"
     ]
    }
   ],
   "source": [
    "df_results.show()"
   ]
  },
  {
   "cell_type": "code",
   "execution_count": null,
   "id": "85877c8f-c615-4249-9c83-ce2d2461f230",
   "metadata": {},
   "outputs": [
    {
     "name": "stdout",
     "output_type": "stream",
     "text": [
      "+------------------------------------+\n",
      "|torneio                             |\n",
      "+------------------------------------+\n",
      "|ABCS Tournament                     |\n",
      "|AFC Asian Cup                       |\n",
      "|AFC Asian Cup qualification         |\n",
      "|AFC Challenge Cup                   |\n",
      "|AFC Challenge Cup qualification     |\n",
      "|AFF Championship                    |\n",
      "|AFF Championship qualification      |\n",
      "|African Cup of Nations              |\n",
      "|African Cup of Nations qualification|\n",
      "|African Nations Championship        |\n",
      "|Amílcar Cabral Cup                  |\n",
      "|Atlantic Cup                        |\n",
      "|Atlantic Heritage Cup               |\n",
      "|Balkan Cup                          |\n",
      "|Baltic Cup                          |\n",
      "|Brazil Independence Cup             |\n",
      "|British Championship                |\n",
      "|CCCF Championship                   |\n",
      "|CECAFA Cup                          |\n",
      "|CFU Caribbean Cup                   |\n",
      "|CFU Caribbean Cup qualification     |\n",
      "|CONCACAF Championship               |\n",
      "|CONCACAF Championship qualification |\n",
      "|CONIFA European Football Cup        |\n",
      "|CONIFA World Football Cup           |\n",
      "|COSAFA Cup                          |\n",
      "|Confederations Cup                  |\n",
      "|Copa América                        |\n",
      "|Copa América qualification          |\n",
      "|Copa Artigas                        |\n",
      "|Copa Bernardo O'Higgins             |\n",
      "|Copa Carlos Dittborn                |\n",
      "|Copa Chevallier Boutell             |\n",
      "|Copa Félix Bogado                   |\n",
      "|Copa Juan Pinto Durán               |\n",
      "|Copa Lipton                         |\n",
      "|Copa Newton                         |\n",
      "|Copa Oswaldo Cruz                   |\n",
      "|Copa Paz del Chaco                  |\n",
      "|Copa Premio Honor Argentino         |\n",
      "|Copa Premio Honor Uruguayo          |\n",
      "|Copa Ramón Castilla                 |\n",
      "|Copa Rio Branco                     |\n",
      "|Copa Roca                           |\n",
      "|Copa del Pacífico                   |\n",
      "|Cyprus International Tournament     |\n",
      "|Dragon Cup                          |\n",
      "|Dunhill Cup                         |\n",
      "|Dynasty Cup                         |\n",
      "|EAFF Championship                   |\n",
      "|ELF Cup                             |\n",
      "|FIFA World Cup                      |\n",
      "|FIFA World Cup qualification        |\n",
      "|FIFI Wild Cup                       |\n",
      "|Friendly                            |\n",
      "|GaNEFo                              |\n",
      "|Gold Cup                            |\n",
      "|Gold Cup qualification              |\n",
      "|Gulf Cup                            |\n",
      "|Indonesia Tournament                |\n",
      "|Inter Games Football Tournament     |\n",
      "|Intercontinental Cup                |\n",
      "|International Cup                   |\n",
      "|Island Games                        |\n",
      "|Jordan International Tournament     |\n",
      "|King Hassan II Tournament           |\n",
      "|King's Cup                          |\n",
      "|Kirin Cup                           |\n",
      "|Korea Cup                           |\n",
      "|Lunar New Year Cup                  |\n",
      "|Malta International Tournament      |\n",
      "|Merdeka Tournament                  |\n",
      "|Merlion Cup                         |\n",
      "|Millennium Cup                      |\n",
      "|Mundialito                          |\n",
      "|NAFU Championship                   |\n",
      "|Nations Cup                         |\n",
      "|Nehru Cup                           |\n",
      "|Nile Basin Tournament               |\n",
      "|Nordic Championship                 |\n",
      "|OSN Cup                             |\n",
      "|Oceania Nations Cup                 |\n",
      "|Oceania Nations Cup qualification   |\n",
      "|Pacific Games                       |\n",
      "|Pan American Championship           |\n",
      "|Prime Minister's Cup                |\n",
      "|Rous Cup                            |\n",
      "|SAFF Cup                            |\n",
      "|SKN Football Festival               |\n",
      "|Simba Tournament                    |\n",
      "|South Pacific Games                 |\n",
      "|Tournoi de France                   |\n",
      "|UAFA Cup                            |\n",
      "|UAFA Cup qualification              |\n",
      "|UDEAC Cup                           |\n",
      "|UEFA Euro                           |\n",
      "|UEFA Euro qualification             |\n",
      "|UEFA Nations League                 |\n",
      "|UNCAF Cup                           |\n",
      "|UNIFFAC Cup                         |\n",
      "+------------------------------------+\n",
      "only showing top 100 rows\n",
      "\n"
     ]
    }
   ],
   "source": [
    "df_results \\\n",
    "    .select('torneio') \\\n",
    "    .distinct() \\\n",
    "    .orderBy('torneio') \\\n",
    "    .show(100,False)"
   ]
  },
  {
   "cell_type": "code",
   "execution_count": 46,
   "id": "4989d03f-dfb9-4058-b4f1-efdb36708ec0",
   "metadata": {},
   "outputs": [],
   "source": [
    "df_results.createOrReplaceTempView('resultados')"
   ]
  },
  {
   "cell_type": "code",
   "execution_count": 51,
   "id": "d8c987ed-a77b-4923-945d-362ca4ecbf14",
   "metadata": {},
   "outputs": [
    {
     "name": "stdout",
     "output_type": "stream",
     "text": [
      "+------------------------------------+\n",
      "|torneio                             |\n",
      "+------------------------------------+\n",
      "|ABCS Tournament                     |\n",
      "|AFC Asian Cup                       |\n",
      "|AFC Asian Cup qualification         |\n",
      "|AFC Challenge Cup                   |\n",
      "|AFC Challenge Cup qualification     |\n",
      "|AFF Championship                    |\n",
      "|AFF Championship qualification      |\n",
      "|African Cup of Nations              |\n",
      "|African Cup of Nations qualification|\n",
      "|African Nations Championship        |\n",
      "|Amílcar Cabral Cup                  |\n",
      "|Atlantic Cup                        |\n",
      "|Atlantic Heritage Cup               |\n",
      "|Balkan Cup                          |\n",
      "|Baltic Cup                          |\n",
      "|Brazil Independence Cup             |\n",
      "|British Championship                |\n",
      "|CCCF Championship                   |\n",
      "|CECAFA Cup                          |\n",
      "|CFU Caribbean Cup                   |\n",
      "|CFU Caribbean Cup qualification     |\n",
      "|CONCACAF Championship               |\n",
      "|CONCACAF Championship qualification |\n",
      "|CONIFA European Football Cup        |\n",
      "|CONIFA World Football Cup           |\n",
      "|COSAFA Cup                          |\n",
      "|Confederations Cup                  |\n",
      "|Copa América                        |\n",
      "|Copa América qualification          |\n",
      "|Copa Artigas                        |\n",
      "|Copa Bernardo O'Higgins             |\n",
      "|Copa Carlos Dittborn                |\n",
      "|Copa Chevallier Boutell             |\n",
      "|Copa Félix Bogado                   |\n",
      "|Copa Juan Pinto Durán               |\n",
      "|Copa Lipton                         |\n",
      "|Copa Newton                         |\n",
      "|Copa Oswaldo Cruz                   |\n",
      "|Copa Paz del Chaco                  |\n",
      "|Copa Premio Honor Argentino         |\n",
      "|Copa Premio Honor Uruguayo          |\n",
      "|Copa Ramón Castilla                 |\n",
      "|Copa Rio Branco                     |\n",
      "|Copa Roca                           |\n",
      "|Copa del Pacífico                   |\n",
      "|Cyprus International Tournament     |\n",
      "|Dragon Cup                          |\n",
      "|Dunhill Cup                         |\n",
      "|Dynasty Cup                         |\n",
      "|EAFF Championship                   |\n",
      "|ELF Cup                             |\n",
      "|FIFA World Cup                      |\n",
      "|FIFA World Cup qualification        |\n",
      "|FIFI Wild Cup                       |\n",
      "|Friendly                            |\n",
      "|GaNEFo                              |\n",
      "|Gold Cup                            |\n",
      "|Gold Cup qualification              |\n",
      "|Gulf Cup                            |\n",
      "|Indonesia Tournament                |\n",
      "|Inter Games Football Tournament     |\n",
      "|Intercontinental Cup                |\n",
      "|International Cup                   |\n",
      "|Island Games                        |\n",
      "|Jordan International Tournament     |\n",
      "|King Hassan II Tournament           |\n",
      "|King's Cup                          |\n",
      "|Kirin Cup                           |\n",
      "|Korea Cup                           |\n",
      "|Lunar New Year Cup                  |\n",
      "|Malta International Tournament      |\n",
      "|Merdeka Tournament                  |\n",
      "|Merlion Cup                         |\n",
      "|Millennium Cup                      |\n",
      "|Mundialito                          |\n",
      "|NAFU Championship                   |\n",
      "|Nations Cup                         |\n",
      "|Nehru Cup                           |\n",
      "|Nile Basin Tournament               |\n",
      "|Nordic Championship                 |\n",
      "|OSN Cup                             |\n",
      "|Oceania Nations Cup                 |\n",
      "|Oceania Nations Cup qualification   |\n",
      "|Pacific Games                       |\n",
      "|Pan American Championship           |\n",
      "|Prime Minister's Cup                |\n",
      "|Rous Cup                            |\n",
      "|SAFF Cup                            |\n",
      "|SKN Football Festival               |\n",
      "|Simba Tournament                    |\n",
      "|South Pacific Games                 |\n",
      "|Tournoi de France                   |\n",
      "|UAFA Cup                            |\n",
      "|UAFA Cup qualification              |\n",
      "|UDEAC Cup                           |\n",
      "|UEFA Euro                           |\n",
      "|UEFA Euro qualification             |\n",
      "|UEFA Nations League                 |\n",
      "|UNCAF Cup                           |\n",
      "|UNIFFAC Cup                         |\n",
      "+------------------------------------+\n",
      "only showing top 100 rows\n",
      "\n"
     ]
    }
   ],
   "source": [
    "spark.sql('select distinct torneio From resultados order by torneio').show(100,False)"
   ]
  },
  {
   "cell_type": "code",
   "execution_count": 52,
   "id": "fc9c8f68-0200-4aac-a14c-9dfc92a09728",
   "metadata": {},
   "outputs": [
    {
     "name": "stdout",
     "output_type": "stream",
     "text": [
      "+------------------------------------+\n",
      "|torneio                             |\n",
      "+------------------------------------+\n",
      "|ABCS Tournament                     |\n",
      "|AFC Asian Cup                       |\n",
      "|AFC Asian Cup qualification         |\n",
      "|AFC Challenge Cup                   |\n",
      "|AFC Challenge Cup qualification     |\n",
      "|AFF Championship                    |\n",
      "|AFF Championship qualification      |\n",
      "|African Cup of Nations              |\n",
      "|African Cup of Nations qualification|\n",
      "|African Nations Championship        |\n",
      "|Amílcar Cabral Cup                  |\n",
      "|Atlantic Cup                        |\n",
      "|Atlantic Heritage Cup               |\n",
      "|Balkan Cup                          |\n",
      "|Baltic Cup                          |\n",
      "|Brazil Independence Cup             |\n",
      "|British Championship                |\n",
      "|CCCF Championship                   |\n",
      "|CECAFA Cup                          |\n",
      "|CFU Caribbean Cup                   |\n",
      "|CFU Caribbean Cup qualification     |\n",
      "|CONCACAF Championship               |\n",
      "|CONCACAF Championship qualification |\n",
      "|CONIFA European Football Cup        |\n",
      "|CONIFA World Football Cup           |\n",
      "|COSAFA Cup                          |\n",
      "|Confederations Cup                  |\n",
      "|Copa América                        |\n",
      "|Copa América qualification          |\n",
      "|Copa Artigas                        |\n",
      "|Copa Bernardo O'Higgins             |\n",
      "|Copa Carlos Dittborn                |\n",
      "|Copa Chevallier Boutell             |\n",
      "|Copa Félix Bogado                   |\n",
      "|Copa Juan Pinto Durán               |\n",
      "|Copa Lipton                         |\n",
      "|Copa Newton                         |\n",
      "|Copa Oswaldo Cruz                   |\n",
      "|Copa Paz del Chaco                  |\n",
      "|Copa Premio Honor Argentino         |\n",
      "|Copa Premio Honor Uruguayo          |\n",
      "|Copa Ramón Castilla                 |\n",
      "|Copa Rio Branco                     |\n",
      "|Copa Roca                           |\n",
      "|Copa del Pacífico                   |\n",
      "|Cyprus International Tournament     |\n",
      "|Dragon Cup                          |\n",
      "|Dunhill Cup                         |\n",
      "|Dynasty Cup                         |\n",
      "|EAFF Championship                   |\n",
      "|ELF Cup                             |\n",
      "|FIFA World Cup                      |\n",
      "|FIFA World Cup qualification        |\n",
      "|FIFI Wild Cup                       |\n",
      "|Friendly                            |\n",
      "|GaNEFo                              |\n",
      "|Gold Cup                            |\n",
      "|Gold Cup qualification              |\n",
      "|Gulf Cup                            |\n",
      "|Indonesia Tournament                |\n",
      "|Inter Games Football Tournament     |\n",
      "|Intercontinental Cup                |\n",
      "|International Cup                   |\n",
      "|Island Games                        |\n",
      "|Jordan International Tournament     |\n",
      "|King Hassan II Tournament           |\n",
      "|King's Cup                          |\n",
      "|Kirin Cup                           |\n",
      "|Korea Cup                           |\n",
      "|Lunar New Year Cup                  |\n",
      "|Malta International Tournament      |\n",
      "|Merdeka Tournament                  |\n",
      "|Merlion Cup                         |\n",
      "|Millennium Cup                      |\n",
      "|Mundialito                          |\n",
      "|NAFU Championship                   |\n",
      "|Nations Cup                         |\n",
      "|Nehru Cup                           |\n",
      "|Nile Basin Tournament               |\n",
      "|Nordic Championship                 |\n",
      "|OSN Cup                             |\n",
      "|Oceania Nations Cup                 |\n",
      "|Oceania Nations Cup qualification   |\n",
      "|Pacific Games                       |\n",
      "|Pan American Championship           |\n",
      "|Prime Minister's Cup                |\n",
      "|Rous Cup                            |\n",
      "|SAFF Cup                            |\n",
      "|SKN Football Festival               |\n",
      "|Simba Tournament                    |\n",
      "|South Pacific Games                 |\n",
      "|Tournoi de France                   |\n",
      "|UAFA Cup                            |\n",
      "|UAFA Cup qualification              |\n",
      "|UDEAC Cup                           |\n",
      "|UEFA Euro                           |\n",
      "|UEFA Euro qualification             |\n",
      "|UEFA Nations League                 |\n",
      "|UNCAF Cup                           |\n",
      "|UNIFFAC Cup                         |\n",
      "+------------------------------------+\n",
      "only showing top 100 rows\n",
      "\n"
     ]
    }
   ],
   "source": [
    "df_results \\\n",
    "    .select('torneio') \\\n",
    "    .distinct() \\\n",
    "    .orderBy('torneio') \\\n",
    "    .show(100,False)"
   ]
  },
  {
   "cell_type": "code",
   "execution_count": 66,
   "id": "0c4a968e-23d0-4baa-9846-69ff683ea6f0",
   "metadata": {},
   "outputs": [],
   "source": [
    "df_jogosBrasil = df_results \\\n",
    "    .where((df_results.mandante == 'Brazil') | (df_results.visitante == 'Brazil')) "
   ]
  },
  {
   "cell_type": "code",
   "execution_count": 67,
   "id": "d26ce14f-b7b3-4516-b6eb-fe1df368a7ef",
   "metadata": {},
   "outputs": [
    {
     "name": "stdout",
     "output_type": "stream",
     "text": [
      "+----------+---------+---------+------------+-------------+------------+--------------+---------+\n",
      "|        dt| mandante|visitante|gol_mandante|gol_visitante|     torneio|        cidade|     pais|\n",
      "+----------+---------+---------+------------+-------------+------------+--------------+---------+\n",
      "|1914-09-20|Argentina|   Brazil|           3|            0|    Friendly|  Buenos Aires|Argentina|\n",
      "|1914-09-27|Argentina|   Brazil|           0|            1|   Copa Roca|  Buenos Aires|Argentina|\n",
      "|1916-07-08|   Brazil|    Chile|           1|            1|Copa América|  Buenos Aires|Argentina|\n",
      "|1916-07-10|Argentina|   Brazil|           1|            1|Copa América|  Buenos Aires|Argentina|\n",
      "|1916-07-12|   Brazil|  Uruguay|           1|            2|Copa América|  Buenos Aires|Argentina|\n",
      "|1916-07-18|  Uruguay|   Brazil|           0|            1|    Friendly|    Montevideo|  Uruguay|\n",
      "|1917-10-03|Argentina|   Brazil|           4|            2|Copa América|    Montevideo|  Uruguay|\n",
      "|1917-10-07|  Uruguay|   Brazil|           4|            0|Copa América|    Montevideo|  Uruguay|\n",
      "|1917-10-12|   Brazil|    Chile|           5|            0|Copa América|    Montevideo|  Uruguay|\n",
      "|1917-10-16|  Uruguay|   Brazil|           3|            1|    Friendly|    Montevideo|  Uruguay|\n",
      "|1919-05-11|   Brazil|    Chile|           6|            0|Copa América|Rio de Janeiro|   Brazil|\n",
      "|1919-05-18|   Brazil|Argentina|           3|            1|Copa América|Rio de Janeiro|   Brazil|\n",
      "|1919-05-26|   Brazil|  Uruguay|           2|            2|Copa América|Rio de Janeiro|   Brazil|\n",
      "|1919-05-29|   Brazil|  Uruguay|           1|            0|Copa América|Rio de Janeiro|   Brazil|\n",
      "|1919-06-01|   Brazil|Argentina|           3|            3|    Friendly|Rio de Janeiro|   Brazil|\n",
      "|1920-09-11|    Chile|   Brazil|           0|            1|Copa América|  Viña del Mar|    Chile|\n",
      "|1920-09-18|   Brazil|  Uruguay|           0|            6|Copa América|  Viña del Mar|    Chile|\n",
      "|1920-09-25|Argentina|   Brazil|           2|            0|Copa América|  Viña del Mar|    Chile|\n",
      "|1921-10-02|Argentina|   Brazil|           1|            0|Copa América|  Buenos Aires|Argentina|\n",
      "|1921-10-12|   Brazil| Paraguay|           3|            0|Copa América|  Buenos Aires|Argentina|\n",
      "+----------+---------+---------+------------+-------------+------------+--------------+---------+\n",
      "only showing top 20 rows\n",
      "\n"
     ]
    }
   ],
   "source": [
    "df_jogosBrasil.show()"
   ]
  },
  {
   "cell_type": "code",
   "execution_count": 70,
   "id": "a5d18da0-f321-4cb7-99ce-ee7a1c8c213a",
   "metadata": {},
   "outputs": [
    {
     "name": "stdout",
     "output_type": "stream",
     "text": [
      "+----------------------------+--------------+\n",
      "|torneio                     |count(torneio)|\n",
      "+----------------------------+--------------+\n",
      "|King's Cup                  |1             |\n",
      "|Lunar New Year Cup          |1             |\n",
      "|Rous Cup                    |2             |\n",
      "|Mundialito                  |3             |\n",
      "|USA Cup                     |3             |\n",
      "|Tournoi de France           |3             |\n",
      "|Brazil Independence Cup     |4             |\n",
      "|Atlantic Cup                |5             |\n",
      "|Copa Bernardo O'Higgins     |10            |\n",
      "|Gold Cup                    |14            |\n",
      "|Pan American Championship   |16            |\n",
      "|Copa Oswaldo Cruz           |16            |\n",
      "|Copa Rio Branco             |18            |\n",
      "|Copa Roca                   |23            |\n",
      "|Confederations Cup          |33            |\n",
      "|FIFA World Cup qualification|104           |\n",
      "|FIFA World Cup              |109           |\n",
      "|Copa América                |184           |\n",
      "|Friendly                    |428           |\n",
      "+----------------------------+--------------+\n",
      "\n"
     ]
    }
   ],
   "source": [
    "df_jogosBrasil \\\n",
    "    .groupby('torneio') \\\n",
    "    .agg({'torneio':'count'}) \\\n",
    "    .orderBy('count(torneio)') \\\n",
    "    .show(100,False)"
   ]
  },
  {
   "cell_type": "code",
   "execution_count": 71,
   "id": "371c3864-9717-4c93-b55e-c665946d2d08",
   "metadata": {},
   "outputs": [],
   "source": [
    "import requests"
   ]
  },
  {
   "cell_type": "code",
   "execution_count": 72,
   "id": "71de82aa-3b4f-4c0c-a516-ee4b1a7e3b38",
   "metadata": {},
   "outputs": [],
   "source": [
    "r = requests.get('https://random-data-api.com/api/v2/users')"
   ]
  },
  {
   "cell_type": "code",
   "execution_count": 74,
   "id": "c5802597-c01e-4d11-b4b2-887baf3b88f0",
   "metadata": {},
   "outputs": [
    {
     "data": {
      "text/plain": [
       "{'id': 2792,\n",
       " 'uid': 'c97e8ed7-6f1e-4d44-aac2-204264eddf47',\n",
       " 'password': 'gxEJP21cku',\n",
       " 'first_name': 'Hortensia',\n",
       " 'last_name': 'Kerluke',\n",
       " 'username': 'hortensia.kerluke',\n",
       " 'email': 'hortensia.kerluke@email.com',\n",
       " 'avatar': 'https://robohash.org/optioinciduntratione.png?size=300x300&set=set1',\n",
       " 'gender': 'Genderfluid',\n",
       " 'phone_number': '+1 663.059.0860 x2760',\n",
       " 'social_insurance_number': '239406408',\n",
       " 'date_of_birth': '1977-02-16',\n",
       " 'employment': {'title': 'Accounting Coordinator',\n",
       "  'key_skill': 'Organisation'},\n",
       " 'address': {'city': 'West Domingamouth',\n",
       "  'street_name': 'Malena Freeway',\n",
       "  'street_address': '6607 Loura Ridges',\n",
       "  'zip_code': '24994-2098',\n",
       "  'state': 'Montana',\n",
       "  'country': 'United States',\n",
       "  'coordinates': {'lat': -62.16084211469928, 'lng': -83.47745684568388}},\n",
       " 'credit_card': {'cc_number': '6771-8938-9514-3503'},\n",
       " 'subscription': {'plan': 'Starter',\n",
       "  'status': 'Blocked',\n",
       "  'payment_method': 'Credit card',\n",
       "  'term': 'Full subscription'}}"
      ]
     },
     "execution_count": 74,
     "metadata": {},
     "output_type": "execute_result"
    }
   ],
   "source": [
    "r.json()"
   ]
  },
  {
   "cell_type": "code",
   "execution_count": null,
   "id": "d4714e87-fa71-43b9-9254-cc9a36e6e8f1",
   "metadata": {},
   "outputs": [],
   "source": []
  }
 ],
 "metadata": {
  "kernelspec": {
   "display_name": "Python 3 (ipykernel)",
   "language": "python",
   "name": "python3"
  },
  "language_info": {
   "codemirror_mode": {
    "name": "ipython",
    "version": 3
   },
   "file_extension": ".py",
   "mimetype": "text/x-python",
   "name": "python",
   "nbconvert_exporter": "python",
   "pygments_lexer": "ipython3",
   "version": "3.10.8"
  }
 },
 "nbformat": 4,
 "nbformat_minor": 5
}
