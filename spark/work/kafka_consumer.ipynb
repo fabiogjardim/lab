{
 "cells": [
  {
   "cell_type": "code",
   "execution_count": null,
   "id": "23543996-c3e1-4bcf-9435-688d923beeba",
   "metadata": {},
   "outputs": [],
   "source": [
    "from confluent_kafka import Consumer\n",
    "from time import sleep"
   ]
  },
  {
   "cell_type": "code",
   "execution_count": null,
   "id": "7fb31f55-7a0f-41a6-9724-b95d1ba58407",
   "metadata": {},
   "outputs": [],
   "source": [
    "class ExampleConsumer:\n",
    "    broker = \"kafka-broker:9092\"\n",
    "    topic = \"aula\"\n",
    "    group_id = \"python\"\n",
    "\n",
    "    def start_listener(self):\n",
    "        consumer_config = {\n",
    "            'bootstrap.servers': self.broker,\n",
    "            'group.id': self.group_id,\n",
    "            'auto.offset.reset': 'earliest',\n",
    "            'enable.auto.commit': 'false',\n",
    "            'max.poll.interval.ms': '86400000'\n",
    "        }\n",
    "\n",
    "        consumer = Consumer(consumer_config)\n",
    "        consumer.subscribe([self.topic])\n",
    "\n",
    "        try:\n",
    "            while True:\n",
    "                #print(\"Listening\")\n",
    "                # read single message at a time\n",
    "                msg = consumer.poll(0)\n",
    "                \n",
    "                if msg is None:\n",
    "                    sleep(5)\n",
    "                    continue\n",
    "                if msg.error():\n",
    "                    print(\"Error reading message : {}\".format(msg.error()))\n",
    "                    continue\n",
    "                # You can parse message and save to data base here\n",
    "                print('----------------------------')\n",
    "                print(\"offset: {} \\n topic: {} \\n value: {}\".format(msg.offset(),msg.topic(),msg.value()))\n",
    "                consumer.commit()\n",
    "\n",
    "        except Exception as ex:\n",
    "            print(\"Kafka Exception : {}\", ex)\n",
    "\n",
    "        finally:\n",
    "            print(\"closing consumer\")\n",
    "            consumer.close()\n",
    "\n"
   ]
  },
  {
   "cell_type": "code",
   "execution_count": null,
   "id": "ddeb8b26-6e97-4863-b266-781dc33c1afe",
   "metadata": {},
   "outputs": [],
   "source": [
    "#RUNNING CONSUMER FOR READING MESSAGE FROM THE KAFKA TOPIC\n",
    "my_consumer = ExampleConsumer()\n",
    "my_consumer.start_listener()"
   ]
  },
  {
   "cell_type": "code",
   "execution_count": null,
   "id": "7aae939d-2610-4f0d-a878-8adfc0f31e8d",
   "metadata": {},
   "outputs": [],
   "source": []
  }
 ],
 "metadata": {
  "kernelspec": {
   "display_name": "Python 3 (ipykernel)",
   "language": "python",
   "name": "python3"
  },
  "language_info": {
   "codemirror_mode": {
    "name": "ipython",
    "version": 3
   },
   "file_extension": ".py",
   "mimetype": "text/x-python",
   "name": "python",
   "nbconvert_exporter": "python",
   "pygments_lexer": "ipython3",
   "version": "3.10.8"
  }
 },
 "nbformat": 4,
 "nbformat_minor": 5
}
