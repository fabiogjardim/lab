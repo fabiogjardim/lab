{
 "cells": [
  {
   "cell_type": "code",
   "execution_count": null,
   "id": "4c87f31f-b49f-464c-926c-fa6005f699a0",
   "metadata": {},
   "outputs": [],
   "source": [
    "from confluent_kafka import Producer"
   ]
  },
  {
   "cell_type": "code",
   "execution_count": null,
   "id": "c4e779d4-ff47-485e-b59d-ed7b5364870e",
   "metadata": {},
   "outputs": [],
   "source": [
    "class ExampleProducer():\n",
    "    broker = \"kafka-broker:9092\"\n",
    "    #topic = \"teste2\"\n",
    "    producer = None\n",
    "\n",
    "    def __init__(self,topic):\n",
    "        self.topic = topic\n",
    "        self.producer = Producer({\n",
    "            'bootstrap.servers': self.broker,\n",
    "            'socket.timeout.ms': 100,\n",
    "            'api.version.request': 'false',\n",
    "            'broker.version.fallback': '0.9.0',\n",
    "        }\n",
    "        )\n",
    "\n",
    "    def delivery_report(self, err, msg):\n",
    "        \"\"\" Called once for each message produced to indicate delivery result.\n",
    "            Triggered by poll() or flush(). \"\"\"\n",
    "        if err is not None:\n",
    "            print('Message delivery failed: {}'.format(err))\n",
    "        else:\n",
    "            print('Message delivered to {} [{}]'.format(\n",
    "                msg.topic(), msg.partition()))\n",
    "\n",
    "    def send_msg_async(self, msg):\n",
    "        print(\"Send message asynchronously\")\n",
    "        self.producer.produce(\n",
    "            self.topic,\n",
    "            msg,\n",
    "            callback=lambda err, original_msg=msg: self.delivery_report(err, original_msg\n",
    "                                                                        ),\n",
    "        )\n",
    "        self.producer.flush()\n",
    "    \n",
    "    def send_msg(self, msg):\n",
    "        print(\"Send message asynchronously\")\n",
    "        self.producer.produce(\n",
    "            self.topic,\n",
    "            msg,\n",
    "            callback=lambda err, original_msg=msg: self.delivery_report(err, original_msg\n",
    "                                                                        ),\n",
    "        )\n",
    "        self.producer.flush()\n",
    "\n",
    "    def send_msg_sync(self, msg):\n",
    "        print(\"Send message synchronously\")\n",
    "        self.producer.produce(\n",
    "            self.topic,\n",
    "            msg,\n",
    "            callback=lambda err, original_msg=msg: self.delivery_report(\n",
    "                err, original_msg\n",
    "            ),\n",
    "        )\n",
    "        self.producer.flush()"
   ]
  },
  {
   "cell_type": "code",
   "execution_count": null,
   "id": "1beeecdb-8cfe-4c4e-b06b-9243b5a1a28d",
   "metadata": {},
   "outputs": [],
   "source": [
    "import requests\n",
    "import json\n",
    "from time import sleep\n",
    "#r = requests.get('https://random-data-api.com/api/v2/users')\n",
    "#j = json.dumps(r.json())\n",
    "while True:\n",
    "    r = requests.get('https://random-data-api.com/api/v2/users')\n",
    "    j = json.dumps(r.json())\n",
    "    example_producer = ExampleProducer('aula')\n",
    "    example_producer.send_msg(j)\n",
    "    sleep(10)\n"
   ]
  },
  {
   "cell_type": "code",
   "execution_count": null,
   "id": "a10e0647-169c-4099-881c-29509a6e8336",
   "metadata": {},
   "outputs": [],
   "source": []
  }
 ],
 "metadata": {
  "kernelspec": {
   "display_name": "Python 3 (ipykernel)",
   "language": "python",
   "name": "python3"
  },
  "language_info": {
   "codemirror_mode": {
    "name": "ipython",
    "version": 3
   },
   "file_extension": ".py",
   "mimetype": "text/x-python",
   "name": "python",
   "nbconvert_exporter": "python",
   "pygments_lexer": "ipython3",
   "version": "3.10.8"
  }
 },
 "nbformat": 4,
 "nbformat_minor": 5
}
